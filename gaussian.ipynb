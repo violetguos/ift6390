{
 "cells": [
  {
   "cell_type": "code",
   "execution_count": 32,
   "metadata": {},
   "outputs": [
    {
     "name": "stdout",
     "output_type": "stream",
     "text": [
      "(3,)\n",
      "train_mean 2.3333333333333335\n",
      "[[0.03703704 0.         0.        ]\n",
      " [0.         0.03703704 0.        ]\n",
      " [0.         0.         0.14814815]]\n",
      "np.diag(self.train_cov) [0.03703704 0.03703704 0.14814815]\n",
      "train_cov_inv [[27.    0.    0.  ]\n",
      " [ 0.   27.    0.  ]\n",
      " [ 0.    0.    6.75]]\n"
     ]
    }
   ],
   "source": [
    "'''\n",
    "IFT6390 Fall/Automne 2018, HW1, Q4, practical\n",
    "Note to TAs: this program runs on Python 3\n",
    "'''\n",
    "\n",
    "'''\n",
    "Part 1\n",
    "'''\n",
    "\n",
    "import numpy as np\n",
    "\n",
    "class gaussianDiag:\n",
    "    def __init__(self, data, label):\n",
    "        self.train_data = data\n",
    "        self.train_label = label\n",
    "        self.train_mean = 0\n",
    "        self.train_cov = 0\n",
    "    \n",
    "    def train_diag(self):\n",
    "        '''\n",
    "        Generate a diagonal covariance matrix\n",
    "        '''\n",
    "        d = self.train_data.shape\n",
    "        print(d)\n",
    "        self.train_mean = np.mean(self.train_data)\n",
    "        print(\"train_mean\", self.train_mean)\n",
    "        self.train_cov = np.multiply( \n",
    "            (self.train_data - self.train_mean), np.transpose((self.train_data - self.train_mean))\n",
    "        )\n",
    "        self.train_cov =np.diag(self.train_cov /d)\n",
    "        print(self.train_cov)\n",
    "        \n",
    "        \n",
    "        return self.train_mean, self.train_cov\n",
    "\n",
    "\n",
    "    def predict_diag(self, train_label):\n",
    "        '''\n",
    "        calculate log density\n",
    "        '''\n",
    "    \n",
    "        #inverse of diagonals cov\n",
    "        print(\"np.diag(self.train_cov)\", np.diag(self.train_cov))\n",
    "        train_cov_inv = np.linalg.inv(self.train_cov)\n",
    "        print(\"train_cov_inv\", train_cov_inv)\n",
    "        \n",
    "        \n",
    "\n",
    "\n",
    "data = np.array([2 ,2,3])\n",
    "label = np.array([3,2,2])\n",
    "part1 = gaussianDiag(data, label)\n",
    "\n",
    "part1.train_diag()\n",
    "part1.predict_diag(label)"
   ]
  },
  {
   "cell_type": "code",
   "execution_count": null,
   "metadata": {},
   "outputs": [],
   "source": [
    "def train_parzen(train_data):\n",
    "    pass\n",
    "\n",
    "def predict_parzen(test_data):\n",
    "    pass"
   ]
  }
 ],
 "metadata": {
  "kernelspec": {
   "display_name": "Python 3",
   "language": "python",
   "name": "python3"
  },
  "language_info": {
   "codemirror_mode": {
    "name": "ipython",
    "version": 3
   },
   "file_extension": ".py",
   "mimetype": "text/x-python",
   "name": "python",
   "nbconvert_exporter": "python",
   "pygments_lexer": "ipython3",
   "version": "3.6.5"
  }
 },
 "nbformat": 4,
 "nbformat_minor": 2
}
