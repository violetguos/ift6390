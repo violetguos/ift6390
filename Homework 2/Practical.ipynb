{
 "cells": [
  {
   "cell_type": "markdown",
   "metadata": {},
   "source": [
    "# 2. Practical Part"
   ]
  },
  {
   "cell_type": "markdown",
   "metadata": {},
   "source": [
    "## 1. Ridge Regression"
   ]
  },
  {
   "cell_type": "code",
   "execution_count": 59,
   "metadata": {},
   "outputs": [],
   "source": [
    "import numpy as np\n",
    "import random\n",
    "%matplotlib inline\n",
    "import matplotlib.pyplot as plt"
   ]
  },
  {
   "cell_type": "code",
   "execution_count": 74,
   "metadata": {},
   "outputs": [],
   "source": [
    "def regression_gradient(weightedDecay, stepSize, numberSteps, data):\n",
    "    '''\n",
    "    weightedDecay: λ\n",
    "    stepSize: η\n",
    "    x: data\n",
    "    t: target\n",
    "    \n",
    "    '''\n",
    "    \n",
    "    \"\"\"initialize theta = [weight, bias] randomly.\n",
    "        n = step size.\n",
    "        lambda = regularization hyperparemeter.\n",
    "        data = training dataset, composed of points of format (x, t).\n",
    "        until gradient sufficiently approaches 0:\n",
    "            gradient = 0\n",
    "            for datapoint (x,t) in data: # This is batch gradient descent\n",
    "                pdv_w = (2*x)*(w^T*x + b - t) + 2*lambda*w\n",
    "                pdv_b = 2*(w^T*x + b - t)\n",
    "                gradient = gradient + [pdv_w, pdv_b]    # Sum, not mean, see Problem 1\n",
    "            theta = theta - n*gradient\"\"\"\n",
    "    \n",
    "    # Get dimension of data - somewhat hacky for 1-dimensional data\n",
    "    try:\n",
    "        d = len(data[0,0])\n",
    "    except:\n",
    "        d = 1\n",
    "    \n",
    "    # Initialize theta = [weight, bias] randomly.\n",
    "    weight = np.random.rand(d, 1) \n",
    "    bias = random.random()\n",
    "    theta = [weight, bias]\n",
    "    theta = np.array(theta)\n",
    "    \n",
    "    gradient = []\n",
    "    for i in range(0, numberSteps):\n",
    "        for datapoint in data: # Batch descent\n",
    "            print(\"datapoint:\", datapoint)\n",
    "            w, b = theta[0], theta[1]\n",
    "            #print(\"w, b:\", w, b)\n",
    "            x, t = datapoint[0], datapoint[1]\n",
    "            # Get partials (just the number, not in array form)\n",
    "            pdv_w = ((2*x)*(np.dot(w.T, x) + b - t) + (np.dot(2*weightedDecay, w)))[0,0]\n",
    "            pdv_b = (2*(np.dot(w.T, x) + b - t))[0,0]\n",
    "            pdvs = np.array([pdv_w, pdv_b])\n",
    "            print(\"pdvs:\", pdvs)\n",
    "            # If on first iteration, let this be the gradient\n",
    "            if i == 0:\n",
    "                gradient = pdvs\n",
    "            else: # Otherwise, alter the existing gradient\n",
    "                gradient += pdvs\n",
    "        gradient = gradient/len(data)\n",
    "        theta = theta - (stepSize*gradient)\n",
    "        print(\"theta:\", theta)\n",
    "    \n",
    "    return theta\n",
    "            \n",
    "        \n",
    "        \n",
    "    \"\"\"#gradient of a scalar x\n",
    "        grad = np.inverse(np.dot(data.T , data)) *data*(bias-target) \n",
    "        #regularization lambda\n",
    "        regGrad = weightedDecay * np.dot(data.T, data)\n",
    "        \n",
    "        regGrad = regGrad + grad\n",
    "        weight = weight - stepSize*regGrad\n",
    "    return w\"\"\"\n",
    "\n",
    "\n",
    "     "
   ]
  },
  {
   "cell_type": "markdown",
   "metadata": {},
   "source": [
    "## 2. Draw Dn from h(x)"
   ]
  },
  {
   "cell_type": "code",
   "execution_count": 75,
   "metadata": {},
   "outputs": [
    {
     "name": "stdout",
     "output_type": "stream",
     "text": [
      "[array([-4.49314897, -3.97725538, -3.59207821, -3.00610734, -1.92891686,\n",
      "       -1.8756112 , -0.30890109, -0.28078104, -0.22796267,  0.46468402,\n",
      "        0.79563817,  0.98202335,  1.54519605,  4.22937396,  4.35582471]), array([-2.51658589, -2.51523232, -2.03690339, -1.64222076, -1.45143546,\n",
      "       -1.39668224, -1.37188167, -1.36134049, -1.29438217, -0.6303542 ,\n",
      "       -0.61678643, -0.41245444, -0.04699819,  0.12622973,  0.46323115])]\n"
     ]
    }
   ],
   "source": [
    "x = np.sort(np.random.uniform(-5,5,15))\n",
    "hX = np.sort(np.sin(x) + 0.3*x -1)\n",
    "dataDn = [x, hX]\n",
    "print(dataDn)\n"
   ]
  },
  {
   "cell_type": "markdown",
   "metadata": {},
   "source": [
    "## 3."
   ]
  },
  {
   "cell_type": "code",
   "execution_count": 76,
   "metadata": {},
   "outputs": [
    {
     "name": "stdout",
     "output_type": "stream",
     "text": [
      "datapoint: [-4.49314897 -2.51658589]\n",
      "pdvs: [-9.92532452  2.20899075]\n",
      "datapoint: [-3.97725538 -2.51523232]\n",
      "pdvs: [-10.9448996    2.75187247]\n",
      "datapoint: [-3.59207821 -2.03690339]\n",
      "pdvs: [-7.9117783   2.20256293]\n",
      "datapoint: [-3.00610734 -1.64222076]\n",
      "pdvs: [-6.11110817  2.03289752]\n",
      "datapoint: [-1.92891686 -1.45143546]\n",
      "pdvs: [-5.38268379  2.79052141]\n",
      "datapoint: [-1.8756112  -1.39668224]\n",
      "pdvs: [-5.1342774   2.73738896]\n",
      "datapoint: [-0.30890109 -1.37188167]\n",
      "pdvs: [-1.34207609  4.34467911]\n",
      "datapoint: [-0.28078104 -1.36134049]\n",
      "pdvs: [-1.22233403  4.35333542]\n",
      "datapoint: [-0.22796267 -1.29438217]\n",
      "pdvs: [-0.97460365  4.27527742]\n",
      "datapoint: [ 0.46468402 -0.6303542 ]\n",
      "pdvs: [1.70991524 3.67973751]\n",
      "datapoint: [ 0.79563817 -0.61678643]\n",
      "pdvs: [3.1846262  4.00260612]\n",
      "datapoint: [ 0.98202335 -0.41245444]\n",
      "pdvs: [3.72290534 3.79105581]\n",
      "datapoint: [ 1.54519605 -0.04699819]\n",
      "pdvs: [5.64882376 3.65573272]\n",
      "datapoint: [4.22937396 0.12622973]\n",
      "pdvs: [26.00201508  6.14795838]\n",
      "datapoint: [4.35582471 0.46323115]\n",
      "pdvs: [24.42609246  5.60768491]\n",
      "theta: [array([[-1.09962573]]) 0.5899530741912604]\n",
      "datapoint: [-4.49314897 -2.51658589]\n",
      "pdvs: [-72.31562574  16.09464238]\n",
      "datapoint: [-3.97725538 -2.51523232]\n",
      "pdvs: [-59.48922268  14.95735551]\n",
      "datapoint: [-3.59207821 -2.03690339]\n",
      "pdvs: [-47.24874627  13.1535962 ]\n",
      "datapoint: [-3.00610734 -1.64222076]\n",
      "pdvs: [-33.29424306  11.07553366]\n",
      "datapoint: [-1.92891686 -1.45143546]\n",
      "pdvs: [-16.05813699   8.3249503 ]\n",
      "datapoint: [-1.8756112  -1.39668224]\n",
      "pdvs: [-15.18909585   8.09821132]\n",
      "datapoint: [-0.30890109 -1.37188167]\n",
      "pdvs: [-1.42187808  4.60302066]\n",
      "datapoint: [-0.28078104 -1.36134049]\n",
      "pdvs: [-1.26915702  4.52009524]\n",
      "datapoint: [-0.22796267 -1.29438217]\n",
      "pdvs: [-0.97340464  4.27001772]\n",
      "datapoint: [ 0.46468402 -0.6303542 ]\n",
      "pdvs: [0.65922749 1.41865753]\n",
      "datapoint: [ 0.79563817 -0.61678643]\n",
      "pdvs: [0.52804166 0.6636706 ]\n",
      "datapoint: [ 0.98202335 -0.41245444]\n",
      "pdvs: [-0.15211667 -0.15490127]\n",
      "datapoint: [ 1.54519605 -0.04699819]\n",
      "pdvs: [-3.28257145 -2.12437215]\n",
      "datapoint: [4.22937396 0.12622973]\n",
      "pdvs: [-35.41682062  -8.37401019]\n",
      "datapoint: [4.35582471 0.46323115]\n",
      "pdvs: [-40.6229004   -9.32611001]\n",
      "theta: [array([[20.49492388]]) -3.9149938029567535]\n",
      "[-4.49314897 -3.97725538 -3.59207821 -3.00610734 -1.92891686 -1.8756112\n",
      " -0.30890109 -0.28078104 -0.22796267  0.46468402  0.79563817  0.98202335\n",
      "  1.54519605  4.22937396  4.35582471]\n",
      "[-96.00173981 -85.42854007 -77.53436323 -65.52493496 -43.44799802\n",
      " -42.35550257 -10.24589803  -9.66957976  -8.58707134   5.6086699\n",
      "  12.39154987  16.21150006  27.75368161  82.76570352  85.35730195]\n"
     ]
    },
    {
     "data": {
      "image/png": "[encoded data removed]",
      "text/plain": [
       "<Figure size 432x288 with 1 Axes>"
      ]
     },
     "metadata": {
      "needs_background": "light"
     },
     "output_type": "display_data"
    }
   ],
   "source": [
    "# Get data into (x,t) format\n",
    "dataDn_formatted = []\n",
    "for i, datapoint in enumerate(dataDn[0]):\n",
    "    new_datapoint = [dataDn[0][i], dataDn[1][i]]\n",
    "    dataDn_formatted.append(new_datapoint)\n",
    "dataDn_formatted = np.array(dataDn_formatted)\n",
    "\n",
    "# With lambda = 0\n",
    "weightedDecay = 0\n",
    "stepSize = 1\n",
    "numberSteps = 2\n",
    "theta = regression_gradient(weightedDecay, stepSize, numberSteps, dataDn_formatted)\n",
    "w, b = theta[0][0], theta[1]\n",
    "func_1 = (w*x) + b\n",
    "print(x)\n",
    "print(func_1)\n",
    "\n",
    "# Plot\n",
    "# The points from the training set Dn:\n",
    "plt.scatter(dataDn[0], dataDn[1])\n",
    "# The sin function:\n",
    "plt.plot(dataDn[0], dataDn[1])\n",
    "# The learned function:\n",
    "plt.plot(x, func_1)\n",
    "\n",
    "plt.show()"
   ]
  },
  {
   "cell_type": "code",
   "execution_count": null,
   "metadata": {},
   "outputs": [],
   "source": []
  },
  {
   "cell_type": "code",
   "execution_count": null,
   "metadata": {},
   "outputs": [],
   "source": []
  },
  {
   "cell_type": "code",
   "execution_count": null,
   "metadata": {},
   "outputs": [],
   "source": []
  }
 ],
 "metadata": {
  "kernelspec": {
   "display_name": "Python 3",
   "language": "python",
   "name": "python3"
  },
  "language_info": {
   "codemirror_mode": {
    "name": "ipython",
    "version": 3
   },
   "file_extension": ".py",
   "mimetype": "text/x-python",
   "name": "python",
   "nbconvert_exporter": "python",
   "pygments_lexer": "ipython3",
   "version": "3.6.0"
  }
 },
 "nbformat": 4,
 "nbformat_minor": 2
}
