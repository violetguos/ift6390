{
 "cells": [
  {
   "cell_type": "markdown",
   "metadata": {},
   "source": [
    "# 2. Practical Part"
   ]
  },
  {
   "cell_type": "markdown",
   "metadata": {},
   "source": [
    "## 1. Ridge Regression"
   ]
  },
  {
   "cell_type": "code",
   "execution_count": 1,
   "metadata": {},
   "outputs": [],
   "source": [
    "import numpy as np\n",
    "import matplotlib.pyplot as plt\n",
    "\n",
    "\n",
    "class gradDescent():\n",
    "    def __init__(self, weightedDecay = 0.01, stepSize = 0.01, numberSteps = 1000):\n",
    "        self.weightedDecay = weightedDecay\n",
    "        self.stepSize = stepSize\n",
    "        self.numberSteps = numberSteps\n",
    "\n",
    "    def ridge_regression(self, weight, bias, data, target):\n",
    "        '''\n",
    "        bias: 1d scalar\n",
    "        weightedDecay: λ\n",
    "        stepSize: η\n",
    "        x: data\n",
    "        t: target\n",
    "        \n",
    "        '''\n",
    "        for i in range(0, self.numberSteps):\n",
    "            #gradient of one data, randomly chosen\n",
    "                index = np.random.randint(0, data.shape[0])\n",
    "            \n",
    "                grad = 1.0/(data[index]**2) * (data[index])* (bias-target[index])\n",
    "                #regularization lambda\n",
    "                regGrad = 2 * self.weightedDecay * weight[index]\n",
    "                regGrad = regGrad + grad\n",
    "                \n",
    "                weight = weight - self.stepSize*regGrad\n",
    "                \n",
    "                biasGrad = 1.0/(data[index]**2) * (bias-target[index])\n",
    "                bias = bias - self.stepSize*biasGrad\n",
    "        return weight, bias\n",
    "\n",
    "\n",
    "     "
   ]
  },
  {
   "cell_type": "markdown",
   "metadata": {},
   "source": [
    "## 2. Draw Dn from h(x)"
   ]
  },
  {
   "cell_type": "code",
   "execution_count": 2,
   "metadata": {},
   "outputs": [],
   "source": [
    "def hX(x):\n",
    "    '''\n",
    "    defines the target function\n",
    "    '''\n",
    "    return np.sin(x) + 0.3*x -1"
   ]
  },
  {
   "cell_type": "code",
   "execution_count": 3,
   "metadata": {},
   "outputs": [
    {
     "data": {
      "image/png": "[encoded data removed]",
      "text/plain": [
       "<Figure size 720x576 with 1 Axes>"
      ]
     },
     "metadata": {
      "needs_background": "light"
     },
     "output_type": "display_data"
    }
   ],
   "source": [
    "data = np.random.uniform(-5,5,15)\n",
    "target = hX(data)\n",
    "dataDn = [data, target]\n",
    "\n",
    "#initialize weights\n",
    "weight = np.random.rand(15)\n",
    "#weight = np.random.rand(1)\n",
    "bias = 0\n",
    "\n",
    "#param holders\n",
    "regGDsmallParam = []\n",
    "regGDMedParam = []\n",
    "regGDLargeParam = []\n",
    "\n",
    "#Small lambda\n",
    "regGDsmall = gradDescent(weightedDecay = 0.01, stepSize = 0.01)\n",
    "regGDsmallParam = regGDsmall.ridge_regression(weight, bias, data, target)\n",
    "\n",
    "regGDMed = gradDescent(weightedDecay = 0.1, stepSize = 0.01)\n",
    "regGDMedParam = regGDMed.ridge_regression(weight, bias, data, target)\n",
    "\n",
    "regGDLarge = gradDescent(weightedDecay = 1, stepSize = 0.01)\n",
    "regGDLargeParam = regGDLarge.ridge_regression(weight, bias, data, target)\n",
    "\n",
    "# learned functions\n",
    "learnedFuncSmall = (regGDsmallParam[0] * data) + regGDsmallParam[1]\n",
    "learnedFuncMed = (regGDMedParam[0] * data) + regGDMedParam[1]\n",
    "learnedFuncLarge = (regGDLargeParam[0] * data) + regGDLargeParam[1]\n",
    "#plot data function\n",
    "xvals = np.arange(-10, 10, 0.01)\n",
    "plt.rcParams['figure.figsize'] = [10, 8]\n",
    "\n",
    "plt.plot(xvals, hX(xvals), label = \"target function\")\n",
    "plt.plot(data, target, 'o', label=\"sampled Data Dn\")\n",
    "plt.plot(data, learnedFuncSmall, '8', label = \"learned func, small $\\lambda$\")\n",
    "plt.plot(data, learnedFuncMed, 'v', label = \"learned func, medium $\\lambda$\")\n",
    "plt.plot(data, learnedFuncLarge, 'x', label = \"learned func, large $\\lambda$\")\n",
    "plt.legend(loc='best')\n",
    "plt.show()\n"
   ]
  },
  {
   "cell_type": "markdown",
   "metadata": {},
   "source": [
    "##  3. Train without regularization, $\\lambda$ = 0\n",
    "Plot h(x), Dn, and our prediction function $f(X) = w^T X + b $"
   ]
  },
  {
   "cell_type": "markdown",
   "metadata": {},
   "source": [
    "## 4. Part 3 revisited, with difference lamda values\n",
    "Plot prediction with $W$ regularized by $\\lambda$ $\\lVert w \\rVert^2$\n",
    "Choose $\\lambda$ intermediate and large"
   ]
  },
  {
   "cell_type": "markdown",
   "metadata": {},
   "source": [
    "## 5. Sample $D_{test}$ from $h(X)$\n",
    "Use $\\lambda$ = [0.0001, 0.001, 0.01, 0.1, 1, 10, 100]\n",
    "\n",
    "Plot $\\lambda$  on x-axis, avg((f(X) - target)^2)"
   ]
  },
  {
   "cell_type": "markdown",
   "metadata": {},
   "source": [
    "## 6. Use kernel $\\phi(x)$\n",
    "set $\\lambda = 0.01$\n",
    "\n",
    "Try different degrees of polynomials\n"
   ]
  },
  {
   "cell_type": "markdown",
   "metadata": {},
   "source": [
    "## 7. Comment on $l$, empirical risk ($D_n$), true risk($D_{test}$)"
   ]
  },
  {
   "cell_type": "code",
   "execution_count": null,
   "metadata": {},
   "outputs": [],
   "source": []
  }
 ],
 "metadata": {
  "kernelspec": {
   "display_name": "Python 3",
   "language": "python",
   "name": "python3"
  },
  "language_info": {
   "codemirror_mode": {
    "name": "ipython",
    "version": 3
   },
   "file_extension": ".py",
   "mimetype": "text/x-python",
   "name": "python",
   "nbconvert_exporter": "python",
   "pygments_lexer": "ipython3",
   "version": "3.6.6"
  }
 },
 "nbformat": 4,
 "nbformat_minor": 2
}
