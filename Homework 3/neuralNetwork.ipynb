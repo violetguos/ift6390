{
 "cells": [
  {
   "cell_type": "code",
   "execution_count": null,
   "metadata": {},
   "outputs": [],
   "source": [
    "'''\n",
    "class neuralNet():\n",
    "    def __init__():\n",
    "        numberOfHidden\n",
    "        numberOutput\n",
    "        inputDim\n",
    "        pass\n",
    "    \n",
    "    def initParam():\n",
    "        #may use xavier init\n",
    "        initW = uniformSample[-1/sqrt(nc), 1/sqrt(nc)]\n",
    "        \n",
    "    \n",
    "    def fprop():\n",
    "        relu()\n",
    "        softmax()\n",
    "    \n",
    "    def bprop():\n",
    "        dL_dW\n",
    "        dL_db\n",
    "    \n",
    "    def gradDescentLoop():\n",
    "        miniBatch = sample(indices)\n",
    "    \n",
    "    def gradDescentMat():\n",
    "        pass\n",
    "    \n",
    "    def errorRate():\n",
    "    \n",
    "    def dataSplit():\n",
    "        train\n",
    "        test\n",
    "        valid\n",
    "        \n",
    "    \n",
    "\n",
    "'''"
   ]
  }
 ],
 "metadata": {
  "kernelspec": {
   "display_name": "Python 3",
   "language": "python",
   "name": "python3"
  },
  "language_info": {
   "codemirror_mode": {
    "name": "ipython",
    "version": 3
   },
   "file_extension": ".py",
   "mimetype": "text/x-python",
   "name": "python",
   "nbconvert_exporter": "python",
   "pygments_lexer": "ipython3",
   "version": "3.6.5"
  }
 },
 "nbformat": 4,
 "nbformat_minor": 2
}
