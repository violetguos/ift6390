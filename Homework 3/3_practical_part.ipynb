{
 "cells": [
  {
   "cell_type": "markdown",
   "metadata": {},
   "source": [
    "# Practical Part: Neural Network Implementation & Experiments"
   ]
  },
  {
   "cell_type": "markdown",
   "metadata": {},
   "source": [
    "Load the Fashion MNIST data:\n",
    "Note: keep your file structures like this for reading input data without\n",
    "using ```import os``` for path change!\n",
    "```\n",
    "./Homework 3\n",
    "├── 3_practical_part.ipynb\n",
    "├── circles.txt\n",
    "├── data\n",
    "│   ├── fashion\n",
    "│   │   ├── t10k-images-idx3-ubyte.gz\n",
    "│   │   ├── t10k-labels-idx1-ubyte.gz\n",
    "│   │   ├── train-images-idx3-ubyte.gz\n",
    "│   │   └── train-labels-idx1-ubyte.gz\n",
    "│   └── mnist\n",
    "│       └── README.md\n",
    "├── hw3\n",
    "│   └── d3english.pdf\n",
    "├── overleaf_url.txt\n",
    "└── utils\n",
    "    ├── __init__.py\n",
    "    ├── __pycache__\n",
    "    │   ├── __init__.cpython-36.pyc\n",
    "    │   └── mnist_reader.cpython-36.pyc\n",
    "    ├── argparser.py\n",
    "    ├── helper.py\n",
    "    └── mnist_reader.py\n",
    "```"
   ]
  },
  {
   "cell_type": "code",
   "execution_count": 294,
   "metadata": {},
   "outputs": [
    {
     "name": "stdout",
     "output_type": "stream",
     "text": [
      "(10000, 784)\n"
     ]
    }
   ],
   "source": [
    "import utils.mnist_reader as mnist_reader\n",
    "import numpy as np\n",
    "import math\n",
    "import copy \n",
    "\n",
    "X_train, y_train = mnist_reader.load_mnist('data/fashion', kind='train')\n",
    "X_test, y_test = mnist_reader.load_mnist('data/fashion', kind='t10k')\n",
    "\n",
    "print(X_test.shape)"
   ]
  },
  {
   "cell_type": "markdown",
   "metadata": {},
   "source": [
    "Load the Circles data:"
   ]
  },
  {
   "cell_type": "code",
   "execution_count": 365,
   "metadata": {},
   "outputs": [
    {
     "name": "stdout",
     "output_type": "stream",
     "text": [
      "(1100, 2, 1)\n",
      "[1 1 0 ... 0 1 1]\n"
     ]
    }
   ],
   "source": [
    "import numpy as np\n",
    "\n",
    "circlesData = np.loadtxt(open('circles.txt','r'))\n",
    "circlesTarget = circlesData[:,2]\n",
    "circlesData = circlesData[:,[0,1]] \n",
    "#circlesData = circlesData\n",
    "circlesData = np.expand_dims(circlesData, axis = 1)\n",
    "circlesData = circlesData.reshape(1100, 2, 1)\n",
    "print(circlesData.shape)\n",
    "circlesTarget = np.array([int(i) for i in circlesTarget])\n",
    "print(circlesTarget)"
   ]
  },
  {
   "cell_type": "code",
   "execution_count": 50,
   "metadata": {},
   "outputs": [
    {
     "name": "stdout",
     "output_type": "stream",
     "text": [
      "(880, 2) (110, 2) (110, 2)\n"
     ]
    }
   ],
   "source": [
    "class loadData:\n",
    "    def __init__(self):\n",
    "        self.addOnes = False\n",
    "        self.data_path = '/data/'\n",
    "    \n",
    "    def convertTarget(self, targetValues):\n",
    "        # Convert to one-hot encoding\n",
    "        numClasses = np.max(targetValues) + 1\n",
    "        return np.eye(numClasses)[targetValues]\n",
    "    \n",
    "\n",
    "    def loadNumData(self, data, target):\n",
    "        # Split into train/validation/test\n",
    "        np.random.seed(6390)\n",
    "        randIndices = np.random.permutation(data.shape[0])\n",
    "        data, target = data[randIndices], target[randIndices]\n",
    "        \n",
    "        div1 = int(math.floor(0.8 * data.shape[0]))\n",
    "        div2 = int(math.floor(0.9 * data.shape[0]))\n",
    "        trainData, trainTarget = data[:div1], target[:div1]\n",
    "        validData, validTarget = data[div1:div2], target[div1:div2]\n",
    "        testData, testTarget = data[div2:], target[div2:]\n",
    "    \n",
    "        # Get one hot encoding\n",
    "        trainTarget = self.convertTarget(trainTarget)\n",
    "        validTarget = self.convertTarget(validTarget)\n",
    "        testTarget = self.convertTarget(testTarget)\n",
    "        \n",
    "        return trainData, trainTarget, validData, validTarget, testData, testTarget\n",
    "\n",
    "dataLoader = loadData()\n",
    " \n",
    "trainData, trainTarget, validData, validTarget, testData, testTarget = dataLoader.loadNumData(circlesData, circlesTarget)\n",
    "print(trainData.shape, validData.shape, testData.shape)\n",
    "\n",
    "\n"
   ]
  },
  {
   "cell_type": "markdown",
   "metadata": {},
   "source": [
    "## Experiments"
   ]
  },
  {
   "cell_type": "markdown",
   "metadata": {},
   "source": [
    "### Part 1\n",
    "\n",
    "> As a beginning, start with an implementation that computes the gradients for a single example, and check that the gradient is correct using the finite difference method described above."
   ]
  },
  {
   "cell_type": "code",
   "execution_count": 301,
   "metadata": {},
   "outputs": [],
   "source": [
    "class BatchSampler(object):\n",
    "    '''\n",
    "    A (very) simple wrapper to randomly sample batches without replacement.\n",
    "    '''\n",
    "    \n",
    "    def __init__(self, data, targets, batch_size):\n",
    "        self.num_points = data.shape[0]\n",
    "        self.features = data.shape[1]\n",
    "        self.data = data\n",
    "        self.targets = targets\n",
    "        self.batch_size = batch_size\n",
    "        self.indices = np.arange(self.num_points)\n",
    "\n",
    "    def random_batch_indices(self, m=None):\n",
    "        if m is None:\n",
    "            indices = np.random.choice(self.indices, self.batch_size, replace=False)\n",
    "        else:\n",
    "            indices = np.random.choice(self.indices, m, replace=False)\n",
    "        return indices \n",
    "\n",
    "    def get_batch(self, m=None):\n",
    "        '''\n",
    "        Get a random batch without replacement from the dataset.\n",
    "        If m is given the batch will be of size m. \n",
    "        Otherwise will default to the class initialized value.\n",
    "        '''\n",
    "        indices = self.random_batch_indices(m)\n",
    "        X_batch = np.take(self.data, indices, 0)\n",
    "        y_batch = self.targets[indices]\n",
    "        return X_batch, y_batch"
   ]
  },
  {
   "cell_type": "code",
   "execution_count": 302,
   "metadata": {},
   "outputs": [],
   "source": [
    "# Our own activation functions\n",
    "\n",
    "def relu(pre_activation):\n",
    "    '''\n",
    "    preactivation is a vector\n",
    "    '''\n",
    "    relu_output = np.zeros(pre_activation.shape[0])\n",
    "    for i, neuron in enumerate(pre_activation):\n",
    "        if neuron[0] > 0:\n",
    "            relu_output[i] = neuron[0]\n",
    "    return relu_output\n",
    "\n",
    "def softmax(pre_activation):\n",
    "    '''\n",
    "    Numerically stable because subtracting the max value makes bit overflow impossible,\n",
    "    we will only have non-positive values in the vector\n",
    "    '''\n",
    "    exps = np.exp(pre_activation - np.max(pre_activation))\n",
    "    return exps / np.sum(exps)"
   ]
  },
  {
   "cell_type": "code",
   "execution_count": 388,
   "metadata": {},
   "outputs": [],
   "source": [
    "class neuralNet():\n",
    "    def __init__(self, d, dh, m, eta=1, regularize=None):\n",
    "        self.inputDim = d #inputDim\n",
    "        self.hiddenDim = dh #hiddenDim\n",
    "        self.outputDim = m #outputDim\n",
    "        self.regularize = regularize # lambda value\n",
    "        self.learningRate = eta\n",
    "        #may use xavier init - maybe explore this later.\n",
    "        \n",
    "        # Initial weights and biases\n",
    "        self.W_1 = np.random.uniform(-1/np.sqrt(d), 1/np.sqrt(d), d*dh).reshape(dh, d)\n",
    "        self.W_2 = np.random.uniform(-1/np.sqrt(dh), 1/np.sqrt(dh), dh*m).reshape(m, dh)   \n",
    "        self.b_1 = np.zeros(dh).reshape(dh,1)\n",
    "        self.b_2 = np.zeros(m).reshape(m, 1)\n",
    "        \n",
    "    def fprop(self, x):\n",
    "        #print(\"in fprop, \", self.W_1.shape, x.shape, self.b_1.shape)\n",
    "        print(\"fprop \", x.shape)\n",
    "        self.h_a = np.dot(self.W_1, x) + self.b_1\n",
    "        self.h_s = np.expand_dims(relu(self.h_a), axis = 1)\n",
    "        #print(\"self.h_a.shape\", self.h_a.shape)\n",
    "        #print(\"self.h_s.shape\", self.h_s.shape)\n",
    "\n",
    "        self.o_a = np.dot(self.W_2, self.h_s) + self.b_2\n",
    "        self.o_s = softmax(self.o_a)\n",
    "        #print(\"self.o_a.shape\", self.o_a.shape)\n",
    "    def errorRate(self):\n",
    "        '''\n",
    "        negative log\n",
    "        -logO_s(x)\n",
    "        '''\n",
    "        negLog = []\n",
    "        #print('oa', self.o_a)\n",
    "        for i in range(self.inputDim):\n",
    "            #print(\"self.o_a[i]\", self.o_a[i])\n",
    "            #print('np.sum(self.o_a, axis=1))', np.sum(self.o_a, axis=1))\n",
    "            negLog.append(-self.o_a[i] + np.log(np.sum(np.exp(self.o_a), axis=1)))\n",
    "        \n",
    "        error = np.array(negLog)\n",
    "        #print('returning this error:', error)\n",
    "        return error\n",
    "            \n",
    "    def bprop(self, batchData, batchTarget):\n",
    "        '''\n",
    "        batchTarget already in one-hot format\n",
    "        '''\n",
    "        \n",
    "        self.grad_oa = self.o_s - batchTarget\n",
    "        \n",
    "        # the np.mean is taking avg of loss\n",
    "        # pack prop taking the avg to multiply over all the grads\n",
    "        self.grad_oa = np.dot(self.grad_oa, np.mean(self.errorRate()))\n",
    "        self.grad_W2 = np.dot(self.grad_oa, self.h_s.T)\n",
    "        self.grad_b2 = self.grad_oa\n",
    "        self.grad_hs = np.dot(self.grad_oa.T, self.W_2)\n",
    "        \n",
    "        # Check this (dim mismatch maybe)\n",
    "        print(\"self.h_a \", self.h_a.shape)\n",
    "        print(\"(np.where(self.h_a > 0, 1, 0)))\", (np.where(self.h_a > 0, 1, 0)).shape)\n",
    "        print(\"self.grad_hs.T \", self.grad_hs.T.shape)\n",
    "        self.grad_ha = np.multiply(self.grad_hs.T, (np.where(self.h_a > 0, 1, 0)))  \n",
    "        \n",
    "        #np.dot(np.expand_dims(self.grad_oa, axis=1), np.expand_dims(self.h_s, axis=1).T)\n",
    "        self.grad_W1 = np.dot(self.grad_ha, batchData.T)\n",
    "        self.grad_b1 = self.grad_ha\n",
    "        \n",
    "        self.grad_reg1 = 0# regularization for layer 1\n",
    "        self.grad_reg2 = 0# regularization for layer 2\n",
    "    \n",
    "    def updateParams(self):\n",
    "        self.W_1 -= self.grad_W1 * self.learningRate\n",
    "        self.W_2 -= self.grad_W2 * self.learningRate\n",
    "        print(\"grad_b1 \", self.grad_b1.shape)\n",
    "        \n",
    "        self.b_1 -= self.grad_b1 * self.learningRate\n",
    "        self.b_2 -= self.grad_b2 * self.learningRate\n",
    "    \n",
    "    def gradDescentLoop(self, batchData, batchTarget, K):\n",
    "        # Call each example in the data (over the minibatches) in a loop\n",
    "        \n",
    "        \n",
    "        if K == 1: # For batch size = 1 (one example)\n",
    "            self.fprop(batchData[0])\n",
    "            self.bprop(batchData[0], batchTarget)\n",
    "        else: # For minibatch with size K\n",
    "            running_error = 0\n",
    "            for i in range(K):\n",
    "                self.fprop(batchData[i])\n",
    "                running_error += self.errorRate()\n",
    "            avg_error = running_error / K\n",
    "            self.bprop(batchData[i], batchTarget[i])\n",
    "            self.updateParams()\n",
    "            \n",
    "            \n",
    "    '''def gradDescentMat():\n",
    "        # Feed the entire data matrix in as input\n",
    "        miniBatch = sample(K indices)\n",
    "        #bprop using matrix operations\n",
    "        \n",
    "    '''\n",
    "\n",
    "        \n",
    "    def dataSplit(self):\n",
    "        '''\n",
    "        train\n",
    "        test\n",
    "        valid\n",
    "        '''"
   ]
  },
  {
   "cell_type": "code",
   "execution_count": 391,
   "metadata": {},
   "outputs": [
    {
     "data": {
      "text/plain": [
       "'      \\ndef earlyStopping(net):\\n    totalEpoch = 10 #may not be enough??\\n    for each epoch\\n        train\\n        valid\\n        test\\n        plot / print errors\\n'"
      ]
     },
     "execution_count": 391,
     "metadata": {},
     "output_type": "execute_result"
    }
   ],
   "source": [
    "def finiteGradCheck(nn, sigma, x, y):\n",
    "    print(x.shape)\n",
    "    # Error for current parameters\n",
    "    orig_error = nn.errorRate()\n",
    "\n",
    "    # Perturb each parameter\n",
    "    nnRes = nn.o_s\n",
    "    nnKeepCopy = copy.deepcopy(nn)\n",
    "    netCopy = copy.deepcopy(nn)\n",
    "    \n",
    "    #print(\"deep copy?? nn.W_2,\", nn.W_2)\n",
    "    netCopy.W_1 += sigma\n",
    "    # W_2 nc = hidden layer dim\n",
    "    netCopy.W_2 += sigma\n",
    "    netCopy.b_1 += sigma\n",
    "    netCopy.b_2 += sigma\n",
    "    \n",
    "    #print(\"netCopy W_2\", netCopy.W_2)\n",
    "    \n",
    "    # forward prop the copy net\n",
    "    # x[0] is a heck when we input a single data point\n",
    "    # b/c we reshaped the whole circle data set into (1100, 2, 1)\n",
    "    netCopy.fprop(x[0])\n",
    "    netCopy.bprop(x[0], y)\n",
    "    \n",
    "    # Calculate perturbed loss\n",
    "    new_error = netCopy.errorRate()\n",
    "    \n",
    "    print('orig error:', orig_error)\n",
    "    print('new_error:', new_error)\n",
    "    gradDiff = (orig_error - new_error) / sigma\n",
    "    \n",
    "    print(\"error difference \", gradDiff)\n",
    "    gradDiffArr = []\n",
    "    gradDiffArr.append((netCopy.grad_oa - nnKeepCopy.grad_oa) / sigma)\n",
    "    gradDiffArr.append((netCopy.grad_W2 - nnKeepCopy.grad_W2) / sigma)\n",
    "    gradDiffArr.append((netCopy.grad_W1 - nnKeepCopy.grad_W1) / sigma)\n",
    "    gradDiffArr.append((netCopy.grad_b2 - nnKeepCopy.grad_b2) / sigma)\n",
    "    gradDiffArr.append((netCopy.grad_b1 - nnKeepCopy.grad_b1) / sigma)\n",
    "    \n",
    "    return gradDiffArr\n",
    "        \n",
    "'''      \n",
    "def earlyStopping(net):\n",
    "    totalEpoch = 10 #may not be enough??\n",
    "    for each epoch\n",
    "        train\n",
    "        valid\n",
    "        test\n",
    "        plot / print errors\n",
    "'''\n",
    "\n"
   ]
  },
  {
   "cell_type": "code",
   "execution_count": 392,
   "metadata": {},
   "outputs": [
    {
     "name": "stdout",
     "output_type": "stream",
     "text": [
      "fprop  (2, 1)\n",
      "self.h_a  (1, 1)\n",
      "(np.where(self.h_a > 0, 1, 0))) (1, 1)\n",
      "self.grad_hs.T  (1, 1)\n",
      "W1 gradient: \n",
      "[[3.24347214e-18 1.41458738e-18]] \n",
      "\n",
      " b1 gradient:\n",
      "[[4.42315798e-18]]\n",
      "softmax result: \n",
      " (2, 1)\n",
      "(1, 2, 1)\n",
      "fprop  (2, 1)\n",
      "self.h_a  (1, 1)\n",
      "(np.where(self.h_a > 0, 1, 0))) (1, 1)\n",
      "self.grad_hs.T  (1, 1)\n",
      "orig error: [[ 1.38777878e-17  8.05778976e-02]\n",
      " [-8.05778976e-02  3.12250226e-17]]\n",
      "new_error: [[ 4.16333634e-17  8.05785516e-02]\n",
      " [-8.05785516e-02 -1.73472348e-17]]\n",
      "error difference  [[-2.77555756e-11 -6.53962517e-01]\n",
      " [ 6.53962517e-01  4.85722573e-11]]\n",
      "For finite gradient check - errors divided by sigma: \n",
      " [array([[4.51143755e-12],\n",
      "       [4.16217983e-12]]), array([[1.14125939e-12],\n",
      "       [1.05290759e-12]]), array([[-1.29739790e-12, -5.65838897e-13]]), array([[4.51143755e-12],\n",
      "       [4.16217983e-12]]), array([[-1.76927553e-12]])]\n"
     ]
    }
   ],
   "source": [
    "# Do forward and backprop for one example\n",
    "\n",
    "# Initialize net\n",
    "#print(circlesData[0].shape)\n",
    "nn = neuralNet(2, 1, 2)\n",
    "nn.gradDescentLoop(circlesData[0:1], circlesTarget[0:1], 1)\n",
    "\n",
    "# Print the gradients\n",
    "print('W1 gradient: \\n{} \\n\\n b1 gradient:\\n{}'.format(nn.grad_W1, nn.grad_b1))\n",
    "print(\"softmax result: \\n {}\".format(nn.o_s.shape))\n",
    "print(\"For finite gradient check - errors divided by sigma: \\n\", finiteGradCheck(nn, 0.000001,\n",
    "                                                                                 np.array([circlesData[0]]).T,\n",
    "                                                                                 np.array([circlesTarget[0]])))"
   ]
  },
  {
   "cell_type": "markdown",
   "metadata": {},
   "source": [
    "### Part 2\n",
    "\n",
    "> Display  the  gradients  for  both  methods (direct computation and finite difference) for a small network (e.g. $d = 2$ and $d_{h} = 2$) with random weights and for a single example."
   ]
  },
  {
   "cell_type": "code",
   "execution_count": null,
   "metadata": {},
   "outputs": [],
   "source": []
  },
  {
   "cell_type": "markdown",
   "metadata": {},
   "source": [
    "### Part 3\n",
    "\n",
    "> Add a hyperparameter for the minibatch size $K$ to allow computing the gradients on a minibatch of $K$ examples (in a matrix), by looping over the $K$ examples (this is a small addition to your previous code)."
   ]
  },
  {
   "cell_type": "code",
   "execution_count": null,
   "metadata": {},
   "outputs": [],
   "source": []
  },
  {
   "cell_type": "markdown",
   "metadata": {},
   "source": [
    "### Part 4\n",
    "\n",
    "> Display the gradients for both methods (direct computation and finite difference) for a small network (e.g. $d = 2$ and $d_{h} = 2$) with random weights and for a minibatch with 10 examples (you can use examples from both classes from the two circles dataset)."
   ]
  },
  {
   "cell_type": "code",
   "execution_count": 385,
   "metadata": {},
   "outputs": [
    {
     "name": "stdout",
     "output_type": "stream",
     "text": [
      "(1, 2, 10)\n",
      "fprop  (2, 1)\n",
      "fprop  (2, 1)\n",
      "fprop  (2, 1)\n",
      "fprop  (2, 1)\n",
      "fprop  (2, 1)\n",
      "fprop  (2, 1)\n",
      "fprop  (2, 1)\n",
      "fprop  (2, 1)\n",
      "fprop  (2, 1)\n",
      "fprop  (2, 1)\n",
      "self.h_a  (2, 1)\n",
      "(np.where(self.h_a > 0, 1, 0))) (2, 1)\n",
      "self.grad_hs.T  (2, 1)\n",
      "grad_b1  (2, 1)\n"
     ]
    }
   ],
   "source": [
    "nn = neuralNet(2, 2, 2)\n",
    "print(np.transpose(circlesData[0:10]).shape)\n",
    "nn.gradDescentLoop((circlesData[0:10]), circlesTarget[0:10], 10)"
   ]
  },
  {
   "cell_type": "markdown",
   "metadata": {},
   "source": [
    "### Part 5\n",
    "\n",
    "> Train your neural network using gradient descent on the two circles dataset. Plot the decision regions for several different values of the hyperparameters (weight decay, number of hidden units, early stopping) so as to illustrate their effect on the capacity of the model."
   ]
  },
  {
   "cell_type": "code",
   "execution_count": null,
   "metadata": {},
   "outputs": [],
   "source": []
  },
  {
   "cell_type": "markdown",
   "metadata": {},
   "source": [
    "### Part 6\n",
    "\n",
    "> As a second step, copy your existing implementation to modify it to a new implementation that will use matrix calculus (instead of a loop) on batches of size $K$ to improve efficiency. **Take the matrix expressions in numpy derived in the first part, and adapt them for a minibatch of size $K$. Show in your report what you have modified (describe the former and new expressions with the shapes of each matrix).**"
   ]
  },
  {
   "cell_type": "code",
   "execution_count": null,
   "metadata": {},
   "outputs": [],
   "source": []
  },
  {
   "cell_type": "markdown",
   "metadata": {},
   "source": [
    "### Part 7\n",
    "\n",
    "> Compare both implementations (with a loop and with matrix calculus) to check that they both give the same values for the gradients on the parameters, first for $K = 1$, then for $K = 10$. Display the gradients for both methods."
   ]
  },
  {
   "cell_type": "code",
   "execution_count": null,
   "metadata": {},
   "outputs": [],
   "source": []
  },
  {
   "cell_type": "markdown",
   "metadata": {},
   "source": [
    "### Part 8\n",
    "\n",
    "> Time how long an epoch takes on Fashion MNIST (1 epoch = 1 full traversal through the whole training set) for $K = 100$ for both versions (loop over a minibatch and matrix caluclus)."
   ]
  },
  {
   "cell_type": "code",
   "execution_count": null,
   "metadata": {},
   "outputs": [],
   "source": []
  },
  {
   "cell_type": "markdown",
   "metadata": {},
   "source": [
    "### Part 9\n",
    "\n",
    "> Adapt your code to compute the error (proportion of misclassified examples) on the training set as well as the total loss on the training set during each epoch of the training procedure, and at the end of each epoch, it computes the error and average loss on the validation set and the test set. Display the 6 corresponding figures (error and average loss on train/valid/test), and write them in a log file."
   ]
  },
  {
   "cell_type": "code",
   "execution_count": null,
   "metadata": {},
   "outputs": [],
   "source": []
  },
  {
   "cell_type": "markdown",
   "metadata": {},
   "source": [
    "### Part 10\n",
    "\n",
    "> Train your network on the Fashion MNIST dataset. Plot the training/valid/test curves (error and loss as a function of the epoch number, corresponding to what you wrote in a file in the last question). Add to your report the curves obtained using your best hyperparameters, i.e. for which you obtained your best error on the validations et. We suggest 2 plots: the first one will plot the error rate (train/valid/test with different colors, show which color in a legend) and the other one for the averaged loss (on train/valid/test). You should be able to get less than 20% test error."
   ]
  },
  {
   "cell_type": "code",
   "execution_count": null,
   "metadata": {},
   "outputs": [],
   "source": []
  }
 ],
 "metadata": {
  "kernelspec": {
   "display_name": "Python 3",
   "language": "python",
   "name": "python3"
  },
  "language_info": {
   "codemirror_mode": {
    "name": "ipython",
    "version": 3
   },
   "file_extension": ".py",
   "mimetype": "text/x-python",
   "name": "python",
   "nbconvert_exporter": "python",
   "pygments_lexer": "ipython3",
   "version": "3.6.5"
  }
 },
 "nbformat": 4,
 "nbformat_minor": 2
}
