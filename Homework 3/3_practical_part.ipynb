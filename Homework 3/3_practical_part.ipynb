{
 "cells": [
  {
   "cell_type": "markdown",
   "metadata": {},
   "source": [
    "# Practical Part: Neural Network Implementation & Experiments\n",
    "\n",
    "Team:\n",
    "* Jonathan Bhimani-Burrows ()\n",
    "* Arlie Coles (20121051)\n",
    "* Yue (Violet) Guo (20120727)"
   ]
  },
  {
   "cell_type": "markdown",
   "metadata": {},
   "source": [
    "Load the Fashion MNIST data:\n",
    "Note: keep your file structures like this for reading input data without\n",
    "using ```import os``` for path change!\n",
    "```\n",
    "./Homework 3\n",
    "├── 3_practical_part.ipynb\n",
    "├── circles.txt\n",
    "├── data\n",
    "│   ├── fashion\n",
    "│   │   ├── t10k-images-idx3-ubyte.gz\n",
    "│   │   ├── t10k-labels-idx1-ubyte.gz\n",
    "│   │   ├── train-images-idx3-ubyte.gz\n",
    "│   │   └── train-labels-idx1-ubyte.gz\n",
    "│   └── mnist\n",
    "│       └── README.md\n",
    "├── hw3\n",
    "│   └── d3english.pdf\n",
    "├── overleaf_url.txt\n",
    "└── utils\n",
    "    ├── __init__.py\n",
    "    ├── __pycache__\n",
    "    │   ├── __init__.cpython-36.pyc\n",
    "    │   └── mnist_reader.cpython-36.pyc\n",
    "    ├── argparser.py\n",
    "    ├── helper.py\n",
    "    └── mnist_reader.py\n",
    "```"
   ]
  },
  {
   "cell_type": "code",
   "execution_count": 3,
   "metadata": {},
   "outputs": [],
   "source": [
    "import utils.mnist_reader as mnist_reader\n",
    "import numpy as np\n",
    "import math\n",
    "import copy "
   ]
  },
  {
   "cell_type": "code",
   "execution_count": 4,
   "metadata": {},
   "outputs": [
    {
     "ename": "FileNotFoundError",
     "evalue": "[Errno 2] No such file or directory: 'data/fashion\\\\train-labels-idx1-ubyte.gz'",
     "output_type": "error",
     "traceback": [
      "\u001b[1;31m---------------------------------------------------------------------------\u001b[0m",
      "\u001b[1;31mFileNotFoundError\u001b[0m                         Traceback (most recent call last)",
      "\u001b[1;32m<ipython-input-4-1038c94ff2d6>\u001b[0m in \u001b[0;36m<module>\u001b[1;34m\u001b[0m\n\u001b[1;32m----> 1\u001b[1;33m \u001b[0mX_train\u001b[0m\u001b[1;33m,\u001b[0m \u001b[0my_train\u001b[0m \u001b[1;33m=\u001b[0m \u001b[0mmnist_reader\u001b[0m\u001b[1;33m.\u001b[0m\u001b[0mload_mnist\u001b[0m\u001b[1;33m(\u001b[0m\u001b[1;34m'data/fashion'\u001b[0m\u001b[1;33m,\u001b[0m \u001b[0mkind\u001b[0m\u001b[1;33m=\u001b[0m\u001b[1;34m'train'\u001b[0m\u001b[1;33m)\u001b[0m\u001b[1;33m\u001b[0m\u001b[0m\n\u001b[0m\u001b[0;32m      2\u001b[0m \u001b[0mX_test\u001b[0m\u001b[1;33m,\u001b[0m \u001b[0my_test\u001b[0m \u001b[1;33m=\u001b[0m \u001b[0mmnist_reader\u001b[0m\u001b[1;33m.\u001b[0m\u001b[0mload_mnist\u001b[0m\u001b[1;33m(\u001b[0m\u001b[1;34m'data/fashion'\u001b[0m\u001b[1;33m,\u001b[0m \u001b[0mkind\u001b[0m\u001b[1;33m=\u001b[0m\u001b[1;34m't10k'\u001b[0m\u001b[1;33m)\u001b[0m\u001b[1;33m\u001b[0m\u001b[0m\n\u001b[0;32m      3\u001b[0m \u001b[1;33m\u001b[0m\u001b[0m\n\u001b[0;32m      4\u001b[0m \u001b[0mprint\u001b[0m\u001b[1;33m(\u001b[0m\u001b[0mX_test\u001b[0m\u001b[1;33m.\u001b[0m\u001b[0mshape\u001b[0m\u001b[1;33m)\u001b[0m\u001b[1;33m\u001b[0m\u001b[0m\n",
      "\u001b[1;32m~\\OneDrive\\Documents\\UdeM\\Automne 2018\\IFT 6390\\ift6390\\Homework 3\\utils\\mnist_reader.py\u001b[0m in \u001b[0;36mload_mnist\u001b[1;34m(path, kind)\u001b[0m\n\u001b[0;32m     12\u001b[0m                                % kind)\n\u001b[0;32m     13\u001b[0m \u001b[1;33m\u001b[0m\u001b[0m\n\u001b[1;32m---> 14\u001b[1;33m     \u001b[1;32mwith\u001b[0m \u001b[0mgzip\u001b[0m\u001b[1;33m.\u001b[0m\u001b[0mopen\u001b[0m\u001b[1;33m(\u001b[0m\u001b[0mlabels_path\u001b[0m\u001b[1;33m,\u001b[0m \u001b[1;34m'rb'\u001b[0m\u001b[1;33m)\u001b[0m \u001b[1;32mas\u001b[0m \u001b[0mlbpath\u001b[0m\u001b[1;33m:\u001b[0m\u001b[1;33m\u001b[0m\u001b[0m\n\u001b[0m\u001b[0;32m     15\u001b[0m         labels = np.frombuffer(lbpath.read(), dtype=np.uint8,\n\u001b[0;32m     16\u001b[0m                                offset=8)\n",
      "\u001b[1;32mc:\\python37\\lib\\gzip.py\u001b[0m in \u001b[0;36mopen\u001b[1;34m(filename, mode, compresslevel, encoding, errors, newline)\u001b[0m\n\u001b[0;32m     51\u001b[0m     \u001b[0mgz_mode\u001b[0m \u001b[1;33m=\u001b[0m \u001b[0mmode\u001b[0m\u001b[1;33m.\u001b[0m\u001b[0mreplace\u001b[0m\u001b[1;33m(\u001b[0m\u001b[1;34m\"t\"\u001b[0m\u001b[1;33m,\u001b[0m \u001b[1;34m\"\"\u001b[0m\u001b[1;33m)\u001b[0m\u001b[1;33m\u001b[0m\u001b[0m\n\u001b[0;32m     52\u001b[0m     \u001b[1;32mif\u001b[0m \u001b[0misinstance\u001b[0m\u001b[1;33m(\u001b[0m\u001b[0mfilename\u001b[0m\u001b[1;33m,\u001b[0m \u001b[1;33m(\u001b[0m\u001b[0mstr\u001b[0m\u001b[1;33m,\u001b[0m \u001b[0mbytes\u001b[0m\u001b[1;33m,\u001b[0m \u001b[0mos\u001b[0m\u001b[1;33m.\u001b[0m\u001b[0mPathLike\u001b[0m\u001b[1;33m)\u001b[0m\u001b[1;33m)\u001b[0m\u001b[1;33m:\u001b[0m\u001b[1;33m\u001b[0m\u001b[0m\n\u001b[1;32m---> 53\u001b[1;33m         \u001b[0mbinary_file\u001b[0m \u001b[1;33m=\u001b[0m \u001b[0mGzipFile\u001b[0m\u001b[1;33m(\u001b[0m\u001b[0mfilename\u001b[0m\u001b[1;33m,\u001b[0m \u001b[0mgz_mode\u001b[0m\u001b[1;33m,\u001b[0m \u001b[0mcompresslevel\u001b[0m\u001b[1;33m)\u001b[0m\u001b[1;33m\u001b[0m\u001b[0m\n\u001b[0m\u001b[0;32m     54\u001b[0m     \u001b[1;32melif\u001b[0m \u001b[0mhasattr\u001b[0m\u001b[1;33m(\u001b[0m\u001b[0mfilename\u001b[0m\u001b[1;33m,\u001b[0m \u001b[1;34m\"read\"\u001b[0m\u001b[1;33m)\u001b[0m \u001b[1;32mor\u001b[0m \u001b[0mhasattr\u001b[0m\u001b[1;33m(\u001b[0m\u001b[0mfilename\u001b[0m\u001b[1;33m,\u001b[0m \u001b[1;34m\"write\"\u001b[0m\u001b[1;33m)\u001b[0m\u001b[1;33m:\u001b[0m\u001b[1;33m\u001b[0m\u001b[0m\n\u001b[0;32m     55\u001b[0m         \u001b[0mbinary_file\u001b[0m \u001b[1;33m=\u001b[0m \u001b[0mGzipFile\u001b[0m\u001b[1;33m(\u001b[0m\u001b[1;32mNone\u001b[0m\u001b[1;33m,\u001b[0m \u001b[0mgz_mode\u001b[0m\u001b[1;33m,\u001b[0m \u001b[0mcompresslevel\u001b[0m\u001b[1;33m,\u001b[0m \u001b[0mfilename\u001b[0m\u001b[1;33m)\u001b[0m\u001b[1;33m\u001b[0m\u001b[0m\n",
      "\u001b[1;32mc:\\python37\\lib\\gzip.py\u001b[0m in \u001b[0;36m__init__\u001b[1;34m(self, filename, mode, compresslevel, fileobj, mtime)\u001b[0m\n\u001b[0;32m    161\u001b[0m             \u001b[0mmode\u001b[0m \u001b[1;33m+=\u001b[0m \u001b[1;34m'b'\u001b[0m\u001b[1;33m\u001b[0m\u001b[0m\n\u001b[0;32m    162\u001b[0m         \u001b[1;32mif\u001b[0m \u001b[0mfileobj\u001b[0m \u001b[1;32mis\u001b[0m \u001b[1;32mNone\u001b[0m\u001b[1;33m:\u001b[0m\u001b[1;33m\u001b[0m\u001b[0m\n\u001b[1;32m--> 163\u001b[1;33m             \u001b[0mfileobj\u001b[0m \u001b[1;33m=\u001b[0m \u001b[0mself\u001b[0m\u001b[1;33m.\u001b[0m\u001b[0mmyfileobj\u001b[0m \u001b[1;33m=\u001b[0m \u001b[0mbuiltins\u001b[0m\u001b[1;33m.\u001b[0m\u001b[0mopen\u001b[0m\u001b[1;33m(\u001b[0m\u001b[0mfilename\u001b[0m\u001b[1;33m,\u001b[0m \u001b[0mmode\u001b[0m \u001b[1;32mor\u001b[0m \u001b[1;34m'rb'\u001b[0m\u001b[1;33m)\u001b[0m\u001b[1;33m\u001b[0m\u001b[0m\n\u001b[0m\u001b[0;32m    164\u001b[0m         \u001b[1;32mif\u001b[0m \u001b[0mfilename\u001b[0m \u001b[1;32mis\u001b[0m \u001b[1;32mNone\u001b[0m\u001b[1;33m:\u001b[0m\u001b[1;33m\u001b[0m\u001b[0m\n\u001b[0;32m    165\u001b[0m             \u001b[0mfilename\u001b[0m \u001b[1;33m=\u001b[0m \u001b[0mgetattr\u001b[0m\u001b[1;33m(\u001b[0m\u001b[0mfileobj\u001b[0m\u001b[1;33m,\u001b[0m \u001b[1;34m'name'\u001b[0m\u001b[1;33m,\u001b[0m \u001b[1;34m''\u001b[0m\u001b[1;33m)\u001b[0m\u001b[1;33m\u001b[0m\u001b[0m\n",
      "\u001b[1;31mFileNotFoundError\u001b[0m: [Errno 2] No such file or directory: 'data/fashion\\\\train-labels-idx1-ubyte.gz'"
     ]
    }
   ],
   "source": [
    "X_train, y_train = mnist_reader.load_mnist('data/fashion', kind='train')\n",
    "X_test, y_test = mnist_reader.load_mnist('data/fashion', kind='t10k')\n",
    "\n",
    "print(X_test.shape)"
   ]
  },
  {
   "cell_type": "markdown",
   "metadata": {},
   "source": [
    "Load the Circles data:"
   ]
  },
  {
   "cell_type": "code",
   "execution_count": 5,
   "metadata": {},
   "outputs": [
    {
     "name": "stdout",
     "output_type": "stream",
     "text": [
      "(3,)\n",
      "[[1 2]\n",
      " [2 3]\n",
      " [3 4]]\n",
      "(2, 3)\n",
      "1\n",
      "2\n",
      "[1 2 3]\n"
     ]
    }
   ],
   "source": [
    "a = np.array([1, 2, 3])\n",
    "b = np.array([2, 3, 4])\n",
    "print(a.shape)\n",
    "c= np.stack((a, b))\n",
    "print(c.T)\n",
    "print(c.shape)\n",
    "\n",
    "print(c[0][0])\n",
    "print(c[1][0])\n",
    "print(c[0,:])"
   ]
  },
  {
   "cell_type": "code",
   "execution_count": 6,
   "metadata": {},
   "outputs": [
    {
     "name": "stdout",
     "output_type": "stream",
     "text": [
      "(1100, 2)\n",
      "[1 1 0 ... 0 1 1]\n"
     ]
    }
   ],
   "source": [
    "circlesData = np.loadtxt(open('circles.txt','r'))\n",
    "circlesTarget = circlesData[:,2]\n",
    "circlesData = circlesData[:,[0,1]] \n",
    "#circlesData = circlesData\n",
    "#circlesData = np.expand_dims(circlesData, axis = 1)\n",
    "#circlesData = circlesData.reshape(1100, 2, 1)\n",
    "print(circlesData.shape)\n",
    "circlesTarget = np.array([int(i) for i in circlesTarget])\n",
    "print(circlesTarget)"
   ]
  },
  {
   "cell_type": "code",
   "execution_count": 7,
   "metadata": {},
   "outputs": [
    {
     "name": "stdout",
     "output_type": "stream",
     "text": [
      "(880, 2) (110, 2) (110, 2)\n",
      "(880, 2)\n"
     ]
    }
   ],
   "source": [
    "class loadData:\n",
    "    def __init__(self):\n",
    "        self.addOnes = False\n",
    "        self.data_path = '/data/'\n",
    "    \n",
    "    def convertTarget(self, targetValues):\n",
    "        # Convert to one-hot encoding\n",
    "        numClasses = np.max(targetValues) + 1\n",
    "        return np.eye(numClasses)[targetValues]\n",
    "    \n",
    "\n",
    "    def loadNumData(self, data, target):\n",
    "        # Split into train/validation/test\n",
    "        np.random.seed(6390)\n",
    "        randIndices = np.random.permutation(data.shape[0])\n",
    "        data, target = data[randIndices], target[randIndices]\n",
    "        \n",
    "        div1 = int(math.floor(0.8 * data.shape[0]))\n",
    "        div2 = int(math.floor(0.9 * data.shape[0]))\n",
    "        trainData, trainTarget = data[:div1], target[:div1]\n",
    "        validData, validTarget = data[div1:div2], target[div1:div2]\n",
    "        testData, testTarget = data[div2:], target[div2:]\n",
    "    \n",
    "        # Get one hot encoding\n",
    "        trainTarget = self.convertTarget(trainTarget)\n",
    "        validTarget = self.convertTarget(validTarget)\n",
    "        testTarget = self.convertTarget(testTarget)\n",
    "        \n",
    "        return trainData, trainTarget, validData, validTarget, testData, testTarget\n",
    "\n",
    "dataLoader = loadData()\n",
    " \n",
    "trainData, trainTarget, validData, validTarget, testData, testTarget = dataLoader.loadNumData(circlesData, circlesTarget)\n",
    "print(trainData.shape, validData.shape, testData.shape)\n",
    "\n",
    "print(trainTarget.shape)"
   ]
  },
  {
   "cell_type": "markdown",
   "metadata": {},
   "source": [
    "## Experiments"
   ]
  },
  {
   "cell_type": "markdown",
   "metadata": {},
   "source": [
    "### Part 1\n",
    "\n",
    "> As a beginning, start with an implementation that computes the gradients for a single example, and check that the gradient is correct using the finite difference method described above."
   ]
  },
  {
   "cell_type": "code",
   "execution_count": 9,
   "metadata": {},
   "outputs": [],
   "source": [
    "class BatchSampler(object):\n",
    "    '''\n",
    "    A (very) simple wrapper to randomly sample batches without replacement.\n",
    "    '''\n",
    "    \n",
    "    def __init__(self, data, targets, batch_size):\n",
    "        self.num_points = data.shape[0]\n",
    "        self.features = data.shape[1]\n",
    "        self.data = data\n",
    "        self.targets = targets\n",
    "        self.batch_size = batch_size\n",
    "        self.indices = np.arange(self.num_points)\n",
    "\n",
    "    def random_batch_indices(self, m=None):\n",
    "        if m is None:\n",
    "            indices = np.random.choice(self.indices, self.batch_size, replace=False)\n",
    "        else:\n",
    "            indices = np.random.choice(self.indices, m, replace=False)\n",
    "        return indices \n",
    "\n",
    "    def get_batch(self, m=None):\n",
    "        '''\n",
    "        Get a random batch without replacement from the dataset.\n",
    "        If m is given the batch will be of size m. \n",
    "        Otherwise will default to the class initialized value.\n",
    "        '''\n",
    "        indices = self.random_batch_indices(m)\n",
    "        X_batch = np.take(self.data, indices, 0)\n",
    "        y_batch = self.targets[indices]\n",
    "        return X_batch, y_batch"
   ]
  },
  {
   "cell_type": "code",
   "execution_count": 10,
   "metadata": {},
   "outputs": [],
   "source": [
    "# Our own activation functions\n",
    "\n",
    "def relu(pre_activation):\n",
    "    '''\n",
    "    preactivation is a vector\n",
    "    '''\n",
    "    relu_output = np.zeros(pre_activation.shape)\n",
    "    relu_flat = relu_output.flatten()\n",
    "    for i, neuron in enumerate(pre_activation.flatten()):\n",
    "        if neuron > 0:\n",
    "            relu_flat[i] = neuron\n",
    "    relu_output = relu_flat.reshape(pre_activation.shape)\n",
    "    return relu_output\n",
    "\n",
    "def softmax(pre_activation):\n",
    "    '''\n",
    "    Numerically stable because subtracting the max value makes bit overflow impossible,\n",
    "    we will only have non-positive values in the vector\n",
    "    '''\n",
    "    exps = np.exp(pre_activation - np.max(pre_activation))\n",
    "    return exps / np.sum(exps)"
   ]
  },
  {
   "cell_type": "code",
   "execution_count": 11,
   "metadata": {},
   "outputs": [],
   "source": [
    "w1_fixed = np.array([[ 0.20960823 , 0.13663559], [ 0.38623373, -0.32807251] ,[-0.63849439 , 0.0131154 ],\n",
    "                     [ 0.5142807 ,  0.0595152 ], [-0.31075243 , 0.52335846]])\n",
    "w2_fixed = np.array( [[ 0.06159592, -0.10424877,  0.23591191 , 0.06177611 , 0.42799154],\n",
    "                      [ 0.40780062,  0.0759027  , 0.09284926, -0.14837115 ,  0.16844463]])"
   ]
  },
  {
   "cell_type": "code",
   "execution_count": 20,
   "metadata": {},
   "outputs": [
    {
     "data": {
      "text/plain": [
       "'      \\ndef earlyStopping(net):\\n    totalEpoch = 10 #may not be enough??\\n    for each epoch\\n        train\\n        valid\\n        test\\n        plot / print errors\\n'"
      ]
     },
     "execution_count": 20,
     "metadata": {},
     "output_type": "execute_result"
    }
   ],
   "source": [
    "class neuralNet():\n",
    "    def __init__(self, d, dh, m, n, eta=1, regularize=None):\n",
    "        self.inputDim = d #inputDim\n",
    "        self.hiddenDim = dh #hiddenDim\n",
    "        self.outputDim = m #outputDim\n",
    "        self.regularize = regularize # lambda value\n",
    "        self.learningRate = eta\n",
    "        self.numData = n\n",
    "        self.batchErrorGradients = []\n",
    "        \n",
    "        #may use xavier init - maybe explore this later.\n",
    "        \n",
    "        # Initial weights and biases\n",
    "        self.W_1 = w1_fixed\n",
    "        #np.random.uniform(-1/np.sqrt(d), 1/np.sqrt(d), d*dh).reshape(dh, d)\n",
    "        self.W_2 = w2_fixed\n",
    "        #np.random.uniform(-1/np.sqrt(dh), 1/np.sqrt(dh), dh*m).reshape(m, dh) \n",
    "\n",
    "        self.b_1 = np.zeros(dh).reshape(dh,)\n",
    "        self.b_2 = np.zeros(m).reshape(m,)\n",
    "\n",
    "        \n",
    "    def fprop(self, batchData, batchTarget):\n",
    "        stack_b1 = np.array([self.b_1,] * self.numData).T\n",
    "        self.h_a = np.dot(self.W_1, batchData.T) + stack_b1\n",
    "        print(\"self.h_a \", self.h_a.shape)\n",
    "        # TODO: may come back to expand dim for single point\n",
    "        self.h_s = relu(self.h_a)\n",
    "        print(\"h_s relu output \", self.h_s.shape)\n",
    "        stack_b2 = np.array([self.b_2,] * self.numData).T\n",
    "        self.o_a = np.dot(self.W_2, self.h_s)\n",
    "        print(\"self oa \", self.o_a.shape)\n",
    "        self.o_s = softmax(self.o_a)\n",
    "        print('output softmax o_s', self.o_s.shape)\n",
    "        \n",
    "\n",
    "    def errorRate(self, y, mode='matrix'):\n",
    "        '''\n",
    "        negative log\n",
    "        -logO_s(x)\n",
    "        '''        \n",
    "        \n",
    "        if mode == 'loop':\n",
    "            negLog = -self.o_a[:,y] + np.log(np.sum(np.exp(self.o_a), axis=1))\n",
    "        elif mode == 'matrix':\n",
    "            print('y.shape', y.shape)\n",
    "            negLog = []\n",
    "            for i in range(self.numData):\n",
    "                error_at_point = -self.o_a[np.argmax(y[:,i])][i] + np.log(np.sum(np.exp(self.o_a), axis=0))[i]\n",
    "                negLog.append(error_at_point)\n",
    "            negLog = np.array(negLog)\n",
    "\n",
    "        return negLog\n",
    "            \n",
    "    def bprop(self, batchData, batchTarget):\n",
    "        '''\n",
    "        batchTarget already in one-hot format\n",
    "        '''\n",
    "        \n",
    "        #batch target must be m by n\n",
    "        print('os', self.o_s.shape)\n",
    "        self.grad_oa = self.o_s - batchTarget\n",
    "        #old_grad_oa = self.grad_oa\n",
    "    \n",
    "        #h_s_extend = np.repeat(self.h_s, self.outputDim ,axis = 0)  #[n*m, dh]\n",
    "        #h_s_extend = np.reshape(h_s_extend,[self.numData,  self.outputDim, self.hiddenDim]) #[n,m, dh]\n",
    "        #self.h_s = h_s_extend\n",
    "        #self.grad_oa = np.reshape(self.grad_oa, [self.numData, self.outputDim, 1])\n",
    "        print('self.grad_oa', self.grad_oa.shape)\n",
    "        \n",
    "        # 3D matmul??\n",
    "        #self.grad_W2 = np.multiply(self.grad_oa, self.h_s)\n",
    "        self.grad_W2 = np.outer(self.grad_oa, self.h_s.T)\n",
    "        \n",
    "        self.grad_b2 = self.grad_oa\n",
    "        #self.grad_b2 = old_grad_oa\n",
    "        \n",
    "        self.grad_hs = np.dot(self.W_2.T , self.grad_oa)\n",
    "        \n",
    "        # Check this (dim mismatch maybe)\n",
    "        \n",
    "        #h_a_stack = np.where(self.h_a > 0, 1, 0).reshape(self.hiddenDim, self.numData, 1)\n",
    "        h_a_stack = np.where(self.h_a > 0, 1, 0)\n",
    "        \n",
    "        # dh * n * 1, stack to dh * n *d\n",
    "        #self.grad_ha = np.multiply(self.grad_hs , h_a_stack)\n",
    "        self.grad_ha = np.multiply(self.grad_hs, h_a_stack)\n",
    "        \n",
    "        \n",
    "        # grad ha = [dh, n]\n",
    "        #grad_ha_extend = np.repeat(self.grad_ha, self.numData, axis = 2) #[dh*d, n]\n",
    "        #print(\"grad_ha_extend \", grad_ha_extend.shape)\n",
    "        #self.grad_ha = grad_ha_extend\n",
    "        #batchData_extend = np.reshape(batchData, [self.numData, 1, self.inputDim])\n",
    "        #grad_ha_extend = np.reshape(self.grad_ha, [self.numData, self.hiddenDim, self.inputDim])\n",
    "        #self.grad_W1 = np.multiply(self.grad_ha, batchData_extend) #[n, d, dh]\n",
    "        self.grad_W1 = np.outer(self.grad_ha, batchData)\n",
    "        \n",
    "        # temporary hack for grad_W1\n",
    "        \n",
    "        print('grad_W1', self.grad_W1)\n",
    "        self.grad_b1 = self.grad_ha\n",
    "        #self.grad_b1 = self.grad_b1.T\n",
    "\n",
    "        print('grad_b1', self.grad_b1)\n",
    "        \n",
    "        \n",
    "    \n",
    "    def updateParams(self):\n",
    "        #print(\"********in update param********\")\n",
    "\n",
    "        self.W_1 -= np.sum(self.grad_W1, axis = 0) * self.learningRate\n",
    "        self.W_2 -= self.grad_W2 * self.learningRate\n",
    "        #print(\"grad_b1 \", self.grad_b1.shape)\n",
    "        \n",
    "        self.b_1 -= self.grad_b1 * self.learningRate\n",
    "        self.b_2 -= self.grad_b2 * self.learningRate\n",
    "    \n",
    "    '''\n",
    "    def gradDescentLoop(self, batchData, batchTarget, K):\n",
    "        # Call each example in the data (over the minibatches) in a loop\n",
    "        \n",
    "        \n",
    "        if K == 1: # For batch size = 1 (one example)\n",
    "            self.fprop(batchData, batchTarget)\n",
    "            \n",
    "            batchDataBack = np.expand_dims(batchData, axis = 0)\n",
    "            #print('batchData shape in grad descent loop, k=1', batchDataBack)\n",
    "            self.bprop(batchDataBack)\n",
    "        else: # For minibatch with size K\n",
    "            running_error = 0\n",
    "            for i in range(K):\n",
    "                print( \"batchData[i]\", batchData[i].shape)\n",
    "                self.fprop(batchData[i], batchTarget[i])\n",
    "            print(\"grad loop multi data\", batchData.shape)\n",
    "            self.bprop(batchData)\n",
    "            self.updateParams()\n",
    "            \n",
    "            \n",
    "    '''\n",
    "    def gradDescentMat(self, batchData, batchTarget):\n",
    "        # Feed the entire data matrix in as input\n",
    "        self.fprop(batchData, batchTarget)\n",
    "        self.bprop(batchData, batchTarget)\n",
    "    \n",
    "\n",
    "        \n",
    "    def dataSplit(self):\n",
    "        '''\n",
    "        train\n",
    "        test\n",
    "        valid\n",
    "        '''\n",
    "            \n",
    "'''      \n",
    "def earlyStopping(net):\n",
    "    totalEpoch = 10 #may not be enough??\n",
    "    for each epoch\n",
    "        train\n",
    "        valid\n",
    "        test\n",
    "        plot / print errors\n",
    "'''\n",
    "\n"
   ]
  },
  {
   "cell_type": "code",
   "execution_count": 22,
   "metadata": {},
   "outputs": [
    {
     "name": "stdout",
     "output_type": "stream",
     "text": [
      "yi shape (2, 1)\n",
      "self.h_a  (5, 1)\n",
      "h_s relu output  (5, 1)\n",
      "self oa  (2, 1)\n",
      "output softmax o_s (2, 1)\n",
      "os (2, 1)\n",
      "self.grad_oa (2, 1)\n",
      "grad_W1 [[ 0.14644683 -0.09891492]\n",
      " [ 0.07620524 -0.05147148]\n",
      " [-0.          0.        ]\n",
      " [-0.08889365  0.06004165]\n",
      " [-0.          0.        ]]\n",
      "grad_b1 [[ 0.17672248]\n",
      " [ 0.09195951]\n",
      " [-0.        ]\n",
      " [-0.10727106]\n",
      " [-0.        ]]\n",
      "y.shape (2, 1)\n",
      "oldErr [0.7142822]\n",
      "self.h_a  (5, 1)\n",
      "h_s relu output  (5, 1)\n",
      "self oa  (2, 1)\n",
      "output softmax o_s (2, 1)\n",
      "y.shape (2, 1)\n",
      "newErr [0.71428121]\n",
      "(newErr - oldErr) [-9.8914875e-07]\n",
      "                      \n",
      "**********************\n",
      "estimate \n",
      " [-0.09891488]\n",
      "old gradient \n",
      " -0.09891492193859343\n",
      "ratio \n",
      " [0.99999953]\n"
     ]
    }
   ],
   "source": [
    "x_i = trainData[0:1]\n",
    "y_i = trainTarget[0:1].T\n",
    "\n",
    "\n",
    "# !!! TODO: transpose all the targets in load data\n",
    "\n",
    "#print(\"x_i.shape\", x_i)\n",
    "print(\"yi shape\", y_i.shape)\n",
    "nn = neuralNet(2, 5, 2, 1)\n",
    "\n",
    "# d = 2\n",
    "# dh = 5\n",
    "# m =2\n",
    "# n = 2\n",
    "\n",
    "nn.gradDescentMat(x_i, y_i)\n",
    "\n",
    "grad_W1 = nn.grad_W1[0][1]\n",
    "oldErr = nn.errorRate(y_i)\n",
    "print('oldErr', oldErr)\n",
    "\n",
    "nnDebug = nn\n",
    "\n",
    "nnDebug.W_1[0][1] += 1e-5\n",
    "\n",
    "nnDebug.fprop(x_i, y_i)\n",
    "newErr = nnDebug.errorRate(y_i)\n",
    "print('newErr', newErr)\n",
    "print('(newErr - oldErr)', (newErr - oldErr))\n",
    "\n",
    "estimate = (newErr - oldErr) / 1e-5\n",
    "ratio = estimate / grad_W1\n",
    "\n",
    "print(\"                      \")\n",
    "print(\"**********************\")\n",
    "print(\"estimate \\n\", estimate)\n",
    "print(\"old gradient \\n\", grad_W1)\n",
    "print(\"ratio \\n\", ratio )\n"
   ]
  },
  {
   "cell_type": "code",
   "execution_count": 329,
   "metadata": {},
   "outputs": [
    {
     "name": "stdout",
     "output_type": "stream",
     "text": [
      "(2, 5)\n",
      "(5, 3)\n",
      "(10, 15)\n"
     ]
    },
    {
     "ename": "NameError",
     "evalue": "name 'grad_oa' is not defined",
     "output_type": "error",
     "traceback": [
      "\u001b[0;31m---------------------------------------------------------------------------\u001b[0m",
      "\u001b[0;31mNameError\u001b[0m                                 Traceback (most recent call last)",
      "\u001b[0;32m<ipython-input-329-cc7f328d15de>\u001b[0m in \u001b[0;36m<module>\u001b[0;34m()\u001b[0m\n\u001b[1;32m     16\u001b[0m \u001b[0mh_s_extend\u001b[0m \u001b[0;34m=\u001b[0m \u001b[0mnp\u001b[0m\u001b[0;34m.\u001b[0m\u001b[0mrepeat\u001b[0m\u001b[0;34m(\u001b[0m\u001b[0mt1\u001b[0m \u001b[0;34m,\u001b[0m \u001b[0mm\u001b[0m \u001b[0;34m,\u001b[0m\u001b[0maxis\u001b[0m \u001b[0;34m=\u001b[0m \u001b[0;36m0\u001b[0m\u001b[0;34m)\u001b[0m  \u001b[0;31m# [n*m, dh]\u001b[0m\u001b[0;34m\u001b[0m\u001b[0m\n\u001b[1;32m     17\u001b[0m \u001b[0mh_s_extend\u001b[0m \u001b[0;34m=\u001b[0m \u001b[0mnp\u001b[0m\u001b[0;34m.\u001b[0m\u001b[0mreshape\u001b[0m\u001b[0;34m(\u001b[0m\u001b[0mh_s_extend\u001b[0m\u001b[0;34m,\u001b[0m\u001b[0;34m[\u001b[0m\u001b[0mn\u001b[0m\u001b[0;34m,\u001b[0m \u001b[0mm\u001b[0m\u001b[0;34m,\u001b[0m \u001b[0mdh\u001b[0m\u001b[0;34m]\u001b[0m\u001b[0;34m)\u001b[0m    \u001b[0;31m# [n,m,dh]\u001b[0m\u001b[0;34m\u001b[0m\u001b[0m\n\u001b[0;32m---> 18\u001b[0;31m \u001b[0mgrad_oa\u001b[0m \u001b[0;34m=\u001b[0m \u001b[0mnp\u001b[0m\u001b[0;34m.\u001b[0m\u001b[0mreshape\u001b[0m\u001b[0;34m(\u001b[0m\u001b[0mgrad_oa\u001b[0m\u001b[0;34m,\u001b[0m \u001b[0;34m[\u001b[0m\u001b[0mn\u001b[0m\u001b[0;34m,\u001b[0m \u001b[0mm\u001b[0m\u001b[0;34m,\u001b[0m \u001b[0;36m1\u001b[0m\u001b[0;34m]\u001b[0m\u001b[0;34m)\u001b[0m\u001b[0;34m\u001b[0m\u001b[0m\n\u001b[0m\u001b[1;32m     19\u001b[0m \u001b[0mprint\u001b[0m\u001b[0;34m(\u001b[0m\u001b[0mh_s_extend\u001b[0m\u001b[0;34m.\u001b[0m\u001b[0mshape\u001b[0m\u001b[0;34m)\u001b[0m\u001b[0;34m\u001b[0m\u001b[0m\n\u001b[1;32m     20\u001b[0m \u001b[0;34m\u001b[0m\u001b[0m\n",
      "\u001b[0;31mNameError\u001b[0m: name 'grad_oa' is not defined"
     ]
    }
   ],
   "source": [
    "dh = 2\n",
    "n = 5\n",
    "d = 3\n",
    "\n",
    "t1 = np.random.rand(2,5)\n",
    "t2 = np.random.rand(5,3)\n",
    "print(t1.shape)\n",
    "print(t2.shape)\n",
    "t = np.outer(t1, t2)\n",
    "print(t.shape)\n",
    "\n",
    "t1.reshape\n",
    "\n",
    "\n",
    "m = 2\n",
    "h_s_extend = np.repeat(t1 , m ,axis = 0)  # [n*m, dh]\n",
    "h_s_extend = np.reshape(h_s_extend,[n, m, dh])    # [n,m,dh]\n",
    "grad_oa = np.reshape(grad_oa, [n, m, 1])\n",
    "print(h_s_extend.shape)\n",
    "\n",
    "\n",
    "grad_ha_extend = np.repeat(grad_ha, d, axis = 0) #[dh*d, n]\n",
    "grad_ha_extend = np.reshape(grad_ha_extend, [n, d, dh])\n",
    "x = np.reshape(x, [n ,d, 1])\n",
    "# !!! grad_W1 needs transpose\n"
   ]
  },
  {
   "cell_type": "code",
   "execution_count": 267,
   "metadata": {},
   "outputs": [],
   "source": [
    "class debugNet():\n",
    "    \n",
    "    def __init__(self, originalNet):\n",
    "        self.copyNet = copy.deepcopy(originalNet)\n",
    "        self.originalNet = originalNet\n",
    "        self.idxList = ['W2', 'b2', 'W1', 'b1']\n",
    "        self.originalParamList = {'W2': originalNet.W_2, 'b2': originalNet.b_2, \n",
    "                             'W1': originalNet.W_1, 'b1': originalNet.b_1}\n",
    "        self.copyParamList = {'W2': self.copyNet.W_2, 'b2': self.copyNet.b_2, \n",
    "                              'W1': self.copyNet.W_1, 'b1': self.copyNet.b_1}\n",
    "        self.originalGradientList = {'W2': originalNet.grad_W2, 'b2': originalNet.grad_b2,\n",
    "                                    'W1': originalNet.grad_W1, 'b1': originalNet.grad_b1}\n",
    "        \n",
    "    def finiteGradCheck(self, sigma, x, y):\n",
    "        #for i, param in enumerate(copyParamList):\n",
    "        y = np.argmax(y)\n",
    "        print(\"y at top of debug \", y)\n",
    "\n",
    "        for key in self.idxList: #, param in self.copyParamList.items():\n",
    "            param = self.copyParamList[key]\n",
    "            print('key:', key, 'param:', param)\n",
    "            \n",
    "            '''if x.ndim == 1:\n",
    "                originalShape = self.originalParamList[key].shape\n",
    "                flatParams = np.ndarray.flatten(param)\n",
    "                print('flattened parameters:', flatParams)\n",
    "                for j, item in enumerate(flatParams):\n",
    "                    print('param j:', item)\n",
    "                    self.copyParamList[key][j] += sigma\n",
    "                    self.copyNet.fprop(x, y)\n",
    "                    originalScalar = self.originalParamList[key][j]\n",
    "                    grad_estimate = ( self.copyNet.errorRate(y) - self.originalNet.errorRate(y)) / sigma\n",
    "                    #print('self.originalGradientList', self.originalGradientList)\n",
    "                    print(\"self.originalGradientList[key] \", self.originalGradientList[key])\n",
    "                    originalGradient = self.originalGradientList[key][j]\n",
    "                    ratio = originalGradient / grad_estimate\n",
    "                    print('The ratio of calculated gradient and estimated gradient by perturbing {} gives {}.'.format(key, ratio))\n",
    "                    # Set back\n",
    "                    self.copyParamList[key][j] = originalScalar'''\n",
    "            if 1==1:\n",
    "                flatCopyParam = np.ndarray.flatten(param)\n",
    "                flatOriginalParam = np.ndarray.flatten(self.originalParamList[key])\n",
    "                originalShape = self.originalParamList[key].shape\n",
    "                for j, _ in enumerate(flatCopyParam):\n",
    "                    jRow = j % originalShape[0]\n",
    "                    jCol = j // originalShape[0]\n",
    "                    #print(\"original shape\", originalShape)\n",
    "                    #print(\"j % originalShape[0] = {}, j // originalShape[0] = {}\".format(j % originalShape[0],j // originalShape[0]))\n",
    "                    \n",
    "                    \n",
    "                    # Perturb\n",
    "                    if param.ndim > 1:\n",
    "                        self.copyParamList[key][jRow][jCol] += sigma\n",
    "                    else:\n",
    "                        self.originalParamList[key][jCol] +=sigma\n",
    "                    self.copyNet.fprop(x, y)\n",
    "                    \n",
    "                    if param.ndim > 1:\n",
    "                        originalScalar = self.originalParamList[key][jRow][jCol]\n",
    "                    else:\n",
    "                        originalScalar = self.originalParamList[key][jCol]\n",
    "                    grad_estimate = ( self.copyNet.errorRate(y) - self.originalNet.errorRate(y)) / sigma\n",
    "                    \n",
    "                    if param.ndim > 1:\n",
    "                        originalGradient = self.originalGradientList[key][jRow][jCol]\n",
    "                    else:\n",
    "                        originalGradient = self.originalGradientList[key][jCol]\n",
    "                    ratio = originalGradient / grad_estimate\n",
    "                    print('The ratio of calculated gradient and estimated gradient by perturbing {} gives \\\n",
    "                            {}.'.format(key, ratio))\n",
    "                    #print('original gradient', originalGradient)\n",
    "                    #print('grad_estimate ', grad_estimate)\n",
    "                    # Set back\n",
    "                    if param.ndim > 1:\n",
    "                        self.copyParamList[key][jRow][jCol] = originalScalar\n",
    "                    else:\n",
    "                        self.copyParamList[key][jCol] = originalScalar\n",
    "                "
   ]
  },
  {
   "cell_type": "code",
   "execution_count": 226,
   "metadata": {},
   "outputs": [
    {
     "name": "stdout",
     "output_type": "stream",
     "text": [
      "y.shape ()\n"
     ]
    },
    {
     "ename": "IndexError",
     "evalue": "tuple index out of range",
     "output_type": "error",
     "traceback": [
      "\u001b[0;31m---------------------------------------------------------------------------\u001b[0m",
      "\u001b[0;31mIndexError\u001b[0m                                Traceback (most recent call last)",
      "\u001b[0;32m<ipython-input-226-98991d1de0a0>\u001b[0m in \u001b[0;36m<module>\u001b[0;34m()\u001b[0m\n\u001b[1;32m      1\u001b[0m \u001b[0msigma\u001b[0m \u001b[0;34m=\u001b[0m \u001b[0;36m1e-5\u001b[0m\u001b[0;34m\u001b[0m\u001b[0m\n\u001b[1;32m      2\u001b[0m \u001b[0moldGradW_2\u001b[0m \u001b[0;34m=\u001b[0m \u001b[0mnn\u001b[0m\u001b[0;34m.\u001b[0m\u001b[0mgrad_W2\u001b[0m\u001b[0;34m\u001b[0m\u001b[0m\n\u001b[0;32m----> 3\u001b[0;31m \u001b[0moldErr\u001b[0m \u001b[0;34m=\u001b[0m \u001b[0mnn\u001b[0m\u001b[0;34m.\u001b[0m\u001b[0merrorRate\u001b[0m\u001b[0;34m(\u001b[0m\u001b[0mnp\u001b[0m\u001b[0;34m.\u001b[0m\u001b[0margmax\u001b[0m\u001b[0;34m(\u001b[0m\u001b[0mtrainTarget\u001b[0m\u001b[0;34m[\u001b[0m\u001b[0;36m0\u001b[0m\u001b[0;34m]\u001b[0m\u001b[0;34m)\u001b[0m\u001b[0;34m)\u001b[0m\u001b[0;34m\u001b[0m\u001b[0m\n\u001b[0m\u001b[1;32m      4\u001b[0m \u001b[0mprint\u001b[0m\u001b[0;34m(\u001b[0m\u001b[0;34m\"oldGrad W2 \"\u001b[0m\u001b[0;34m,\u001b[0m \u001b[0moldGradW_2\u001b[0m\u001b[0;34m[\u001b[0m\u001b[0;36m0\u001b[0m\u001b[0;34m]\u001b[0m\u001b[0;34m[\u001b[0m\u001b[0;36m0\u001b[0m\u001b[0;34m]\u001b[0m\u001b[0;34m)\u001b[0m\u001b[0;34m\u001b[0m\u001b[0m\n\u001b[1;32m      5\u001b[0m \u001b[0mnn\u001b[0m\u001b[0;34m.\u001b[0m\u001b[0mW_2\u001b[0m\u001b[0;34m[\u001b[0m\u001b[0;36m0\u001b[0m\u001b[0;34m]\u001b[0m \u001b[0;34m+=\u001b[0m \u001b[0msigma\u001b[0m\u001b[0;34m\u001b[0m\u001b[0m\n",
      "\u001b[0;32m<ipython-input-221-137a6a90e64a>\u001b[0m in \u001b[0;36merrorRate\u001b[0;34m(self, y, mode)\u001b[0m\n\u001b[1;32m     52\u001b[0m         \u001b[0;32melif\u001b[0m \u001b[0mmode\u001b[0m \u001b[0;34m==\u001b[0m \u001b[0;34m'matrix'\u001b[0m\u001b[0;34m:\u001b[0m\u001b[0;34m\u001b[0m\u001b[0m\n\u001b[1;32m     53\u001b[0m             \u001b[0mprint\u001b[0m\u001b[0;34m(\u001b[0m\u001b[0;34m'y.shape'\u001b[0m\u001b[0;34m,\u001b[0m \u001b[0my\u001b[0m\u001b[0;34m.\u001b[0m\u001b[0mshape\u001b[0m\u001b[0;34m)\u001b[0m\u001b[0;34m\u001b[0m\u001b[0m\n\u001b[0;32m---> 54\u001b[0;31m             \u001b[0mnegLog\u001b[0m \u001b[0;34m=\u001b[0m \u001b[0;34m[\u001b[0m\u001b[0;34m-\u001b[0m\u001b[0mself\u001b[0m\u001b[0;34m.\u001b[0m\u001b[0mo_a\u001b[0m\u001b[0;34m[\u001b[0m\u001b[0;34m:\u001b[0m\u001b[0;34m,\u001b[0m\u001b[0mi\u001b[0m\u001b[0;34m]\u001b[0m \u001b[0;34m+\u001b[0m \u001b[0mnp\u001b[0m\u001b[0;34m.\u001b[0m\u001b[0mlog\u001b[0m\u001b[0;34m(\u001b[0m\u001b[0mnp\u001b[0m\u001b[0;34m.\u001b[0m\u001b[0msum\u001b[0m\u001b[0;34m(\u001b[0m\u001b[0mnp\u001b[0m\u001b[0;34m.\u001b[0m\u001b[0mexp\u001b[0m\u001b[0;34m(\u001b[0m\u001b[0mself\u001b[0m\u001b[0;34m.\u001b[0m\u001b[0mo_a\u001b[0m\u001b[0;34m)\u001b[0m\u001b[0;34m,\u001b[0m \u001b[0maxis\u001b[0m\u001b[0;34m=\u001b[0m\u001b[0;36m1\u001b[0m\u001b[0;34m)\u001b[0m\u001b[0;34m)\u001b[0m \u001b[0;32mfor\u001b[0m \u001b[0mi\u001b[0m \u001b[0;32min\u001b[0m \u001b[0mrange\u001b[0m\u001b[0;34m(\u001b[0m\u001b[0my\u001b[0m\u001b[0;34m.\u001b[0m\u001b[0mshape\u001b[0m\u001b[0;34m[\u001b[0m\u001b[0;36m1\u001b[0m\u001b[0;34m]\u001b[0m\u001b[0;34m)\u001b[0m\u001b[0;34m]\u001b[0m\u001b[0;34m\u001b[0m\u001b[0m\n\u001b[0m\u001b[1;32m     55\u001b[0m             \u001b[0mnegLog\u001b[0m \u001b[0;34m=\u001b[0m \u001b[0mnp\u001b[0m\u001b[0;34m.\u001b[0m\u001b[0marray\u001b[0m\u001b[0;34m(\u001b[0m\u001b[0mnegLog\u001b[0m\u001b[0;34m)\u001b[0m\u001b[0;34m\u001b[0m\u001b[0m\n\u001b[1;32m     56\u001b[0m         \u001b[0;31m#print('returning this error:', error)\u001b[0m\u001b[0;34m\u001b[0m\u001b[0;34m\u001b[0m\u001b[0m\n",
      "\u001b[0;31mIndexError\u001b[0m: tuple index out of range"
     ]
    }
   ],
   "source": [
    "sigma = 1e-5\n",
    "oldGradW_2 = nn.grad_W2\n",
    "oldErr = nn.errorRate(np.argmax(trainTarget[0]))\n",
    "print(\"oldGrad W2 \", oldGradW_2[0][0])\n",
    "nn.W_2[0] += sigma\n",
    "np.argmax(trainTarget[0])\n",
    "estimate = (nn.errorRate(np.argmax(trainTarget[0])) - oldErr) / sigma\n",
    "print(\"estimate \", estimate)\n",
    "print(\"ratio \", oldGradW_2[0][0] / estimate)"
   ]
  },
  {
   "cell_type": "code",
   "execution_count": 80,
   "metadata": {
    "scrolled": true
   },
   "outputs": [
    {
     "name": "stdout",
     "output_type": "stream",
     "text": [
      "input  [ 0.82868251 -0.55971895]\n",
      "check init weights\n",
      "self.W_1  [[0.074175   0.03986865]]\n",
      "self.W_2  [[ 0.28348563]\n",
      " [-0.72109409]]\n",
      "relu output  [0.03915228]\n",
      "output softmax o_s [0.50983163 0.49016837]\n",
      "*** input to grad W2 *** \n",
      "self.grad_oa  [[-0.49016837]\n",
      " [ 0.49016837]]\n",
      "self.h_s  [[0.03915228]]\n",
      "**** input to W1 ***\n",
      "self.grad_ha  [[-0.4924132]]\n",
      "batchData  [[-0.4924132]]\n",
      "grad_W1 [[-0.40805421  0.275613  ]]\n",
      "grad_b1 [[-0.4924132]]\n",
      "W1 gradient: \n",
      "[[-0.40805421  0.275613  ]] \n",
      "\n",
      " b1 gradient:\n",
      "[[-0.4924132]]\n",
      "softmax result: \n",
      " (2,)\n",
      "trainTarget[0:] (2, 1)\n",
      "y at top of debug  0\n",
      "key: W2 param: [[ 0.28348563]\n",
      " [-0.72109409]]\n",
      "original shape (2, 1)\n",
      "j % originalShape[0] = 0, j // originalShape[0] = 0\n",
      "relu output  [0.03915228]\n",
      "output softmax o_s [0.50983164 0.49016836]\n",
      "The ratio of calculated gradient and estimated gradient by perturbing W2 gives                             1.000000007793702.\n",
      "original gradient -0.019191211103299022\n",
      "grad_estimate  -0.019191210953728444\n",
      "original shape (2, 1)\n",
      "j % originalShape[0] = 1, j // originalShape[0] = 0\n",
      "relu output  [0.03915228]\n",
      "output softmax o_s [0.50983162 0.49016838]\n",
      "The ratio of calculated gradient and estimated gradient by perturbing W2 gives                             0.9999999962235823.\n",
      "original gradient 0.01919121110329902\n",
      "grad_estimate  0.01919121117577305\n",
      "key: b2 param: [0. 0.]\n",
      "original shape (2,)\n",
      "j % originalShape[0] = 0, j // originalShape[0] = 0\n",
      "relu output  [0.03915228]\n",
      "output softmax o_s [0.50983163 0.49016837]\n",
      "The ratio of calculated gradient and estimated gradient by perturbing b2 gives                             [-inf].\n",
      "original gradient [-0.49016837]\n",
      "grad_estimate  0.0\n",
      "original shape (2,)\n",
      "j % originalShape[0] = 1, j // originalShape[0] = 0\n",
      "relu output  [0.03915228]\n",
      "output softmax o_s [0.50983188 0.49016812]\n",
      "The ratio of calculated gradient and estimated gradient by perturbing b2 gives                             [1.00000025].\n",
      "original gradient [-0.49016837]\n",
      "grad_estimate  -0.4901682449931499\n",
      "key: W1 param: [[0.074175   0.03986865]]\n",
      "original shape (1, 2)\n",
      "j % originalShape[0] = 0, j // originalShape[0] = 0\n",
      "relu output  [0.03915311]\n",
      "output softmax o_s [0.50983234 0.49016766]\n",
      "The ratio of calculated gradient and estimated gradient by perturbing W1 gives                             0.29390461180161803.\n",
      "original gradient -0.4080542078179573\n",
      "grad_estimate  -1.388389945011781\n",
      "original shape (1, 2)\n",
      "j % originalShape[0] = 0, j // originalShape[0] = 1\n",
      "relu output  [0.03915172]\n",
      "output softmax o_s [0.50983199 0.49016801]\n",
      "The ratio of calculated gradient and estimated gradient by perturbing W1 gives                             -0.39109382768107115.\n",
      "original gradient 0.27561300273520173\n",
      "grad_estimate  -0.7047234786838885\n",
      "key: b1 param: [0.]\n",
      "original shape (1,)\n",
      "j % originalShape[0] = 0, j // originalShape[0] = 0\n",
      "relu output  [0.03915228]\n",
      "output softmax o_s [0.50983213 0.49016787]\n",
      "The ratio of calculated gradient and estimated gradient by perturbing b1 gives                             [0.50229012].\n",
      "original gradient [-0.4924132]\n",
      "grad_estimate  -0.9803362398530524\n"
     ]
    },
    {
     "name": "stderr",
     "output_type": "stream",
     "text": [
      "/Users/vikuo/anaconda3/lib/python3.6/site-packages/ipykernel_launcher.py:68: RuntimeWarning: divide by zero encountered in true_divide\n"
     ]
    }
   ],
   "source": [
    "# Do forward and backprop for one example\n",
    "\n",
    "# Initialize net\n",
    "print(\"input \", trainData[0:1][0])\n",
    "\n",
    "\n",
    "nn = neuralNet(2, 1, 2)\n",
    "nn.gradDescentLoop(trainData[0:1][0],  trainTarget[0], 1)\n",
    "\n",
    "# Print the gradients\n",
    "\n",
    "print('W1 gradient: \\n{} \\n\\n b1 gradient:\\n{}'.format(nn.grad_W1, nn.grad_b1))\n",
    "print(\"softmax result: \\n {}\".format(nn.o_s.shape))\n",
    "\n",
    "finiteGrad = debugNet(nn)\n",
    "\n",
    "# single input add one dim hack\n",
    "print(\"trainTarget[0:]\", trainTarget[0:1].T.shape)\n",
    "\n",
    "finiteGrad.finiteGradCheck(0.000001, trainData[0:1][0], trainTarget[0])\n",
    "\n",
    "\n",
    "\n"
   ]
  },
  {
   "cell_type": "markdown",
   "metadata": {},
   "source": [
    "### Part 2\n",
    "\n",
    "> Display  the  gradients  for  both  methods (direct computation and finite difference) for a small network (e.g. $d = 2$ and $d_{h} = 2$) with random weights and for a single example."
   ]
  },
  {
   "cell_type": "markdown",
   "metadata": {},
   "source": [
    "### Part 3\n",
    "\n",
    "> Add a hyperparameter for the minibatch size $K$ to allow computing the gradients on a minibatch of $K$ examples (in a matrix), by looping over the $K$ examples (this is a small addition to your previous code)."
   ]
  },
  {
   "cell_type": "markdown",
   "metadata": {},
   "source": [
    "### Part 4\n",
    "\n",
    "> Display the gradients for both methods (direct computation and finite difference) for a small network (e.g. $d = 2$ and $d_{h} = 2$) with random weights and for a minibatch with 10 examples (you can use examples from both classes from the two circles dataset)."
   ]
  },
  {
   "cell_type": "markdown",
   "metadata": {},
   "source": [
    "### Part 5\n",
    "\n",
    "> Train your neural network using gradient descent on the two circles dataset. Plot the decision regions for several different values of the hyperparameters (weight decay, number of hidden units, early stopping) so as to illustrate their effect on the capacity of the model."
   ]
  },
  {
   "cell_type": "code",
   "execution_count": null,
   "metadata": {},
   "outputs": [],
   "source": []
  },
  {
   "cell_type": "code",
   "execution_count": 9,
   "metadata": {},
   "outputs": [
    {
     "name": "stdout",
     "output_type": "stream",
     "text": [
      "(10, 2)\n",
      "check init weights\n",
      "self.W_1  [[ 0.37084291  0.37646992]\n",
      " [ 0.22274041 -0.45979189]]\n",
      "self.W_2  [[ 0.49756088  0.35250494]\n",
      " [ 0.57126469 -0.4591249 ]]\n",
      "batchData[i] (2,)\n",
      "batchData[i] (2,)\n",
      "batchData[i] (2,)\n",
      "batchData[i] (2,)\n",
      "batchData[i] (2,)\n",
      "batchData[i] (2,)\n",
      "batchData[i] (2,)\n",
      "batchData[i] (2,)\n",
      "batchData[i] (2,)\n",
      "batchData[i] (2,)\n",
      "grad loop multi data (10, 2)\n",
      "self.grad_hs  (2,)\n",
      "self.h_a  [-0.44909742  0.39922038]\n",
      "npwhere  [0 1]\n",
      "h_a_stack  [0 1]\n",
      "grad_ha (2,)\n",
      "batchData before grad_W1 (10, 2)\n"
     ]
    },
    {
     "ename": "ValueError",
     "evalue": "shapes (2,) and (10,2) not aligned: 2 (dim 0) != 10 (dim 0)",
     "output_type": "error",
     "traceback": [
      "\u001b[0;31m---------------------------------------------------------------------------\u001b[0m",
      "\u001b[0;31mValueError\u001b[0m                                Traceback (most recent call last)",
      "\u001b[0;32m<ipython-input-9-ac94937051c5>\u001b[0m in \u001b[0;36m<module>\u001b[0;34m()\u001b[0m\n\u001b[1;32m      4\u001b[0m \u001b[0;34m\u001b[0m\u001b[0m\n\u001b[1;32m      5\u001b[0m \u001b[0mnn\u001b[0m \u001b[0;34m=\u001b[0m \u001b[0mneuralNet\u001b[0m\u001b[0;34m(\u001b[0m\u001b[0;36m2\u001b[0m\u001b[0;34m,\u001b[0m \u001b[0;36m2\u001b[0m\u001b[0;34m,\u001b[0m \u001b[0;36m2\u001b[0m\u001b[0;34m)\u001b[0m\u001b[0;34m\u001b[0m\u001b[0m\n\u001b[0;32m----> 6\u001b[0;31m \u001b[0mnn\u001b[0m\u001b[0;34m.\u001b[0m\u001b[0mgradDescentLoop\u001b[0m\u001b[0;34m(\u001b[0m\u001b[0;34m(\u001b[0m\u001b[0mtrainData\u001b[0m\u001b[0;34m[\u001b[0m\u001b[0;36m0\u001b[0m\u001b[0;34m:\u001b[0m\u001b[0;36m10\u001b[0m\u001b[0;34m]\u001b[0m\u001b[0;34m)\u001b[0m\u001b[0;34m,\u001b[0m \u001b[0mtrainTarget\u001b[0m\u001b[0;34m[\u001b[0m\u001b[0;36m0\u001b[0m\u001b[0;34m:\u001b[0m\u001b[0;36m10\u001b[0m\u001b[0;34m]\u001b[0m\u001b[0;34m,\u001b[0m \u001b[0;36m10\u001b[0m\u001b[0;34m)\u001b[0m\u001b[0;34m\u001b[0m\u001b[0m\n\u001b[0m",
      "\u001b[0;32m<ipython-input-6-032ed980f382>\u001b[0m in \u001b[0;36mgradDescentLoop\u001b[0;34m(self, batchData, batchTarget, K)\u001b[0m\n\u001b[1;32m    159\u001b[0m                 \u001b[0mself\u001b[0m\u001b[0;34m.\u001b[0m\u001b[0mfprop\u001b[0m\u001b[0;34m(\u001b[0m\u001b[0mbatchData\u001b[0m\u001b[0;34m[\u001b[0m\u001b[0mi\u001b[0m\u001b[0;34m]\u001b[0m\u001b[0;34m,\u001b[0m \u001b[0mbatchTarget\u001b[0m\u001b[0;34m[\u001b[0m\u001b[0mi\u001b[0m\u001b[0;34m]\u001b[0m\u001b[0;34m)\u001b[0m\u001b[0;34m\u001b[0m\u001b[0m\n\u001b[1;32m    160\u001b[0m             \u001b[0mprint\u001b[0m\u001b[0;34m(\u001b[0m\u001b[0;34m\"grad loop multi data\"\u001b[0m\u001b[0;34m,\u001b[0m \u001b[0mbatchData\u001b[0m\u001b[0;34m.\u001b[0m\u001b[0mshape\u001b[0m\u001b[0;34m)\u001b[0m\u001b[0;34m\u001b[0m\u001b[0m\n\u001b[0;32m--> 161\u001b[0;31m             \u001b[0mself\u001b[0m\u001b[0;34m.\u001b[0m\u001b[0mbprop\u001b[0m\u001b[0;34m(\u001b[0m\u001b[0mbatchData\u001b[0m\u001b[0;34m)\u001b[0m\u001b[0;34m\u001b[0m\u001b[0m\n\u001b[0m\u001b[1;32m    162\u001b[0m             \u001b[0mself\u001b[0m\u001b[0;34m.\u001b[0m\u001b[0mupdateParams\u001b[0m\u001b[0;34m(\u001b[0m\u001b[0;34m)\u001b[0m\u001b[0;34m\u001b[0m\u001b[0m\n\u001b[1;32m    163\u001b[0m \u001b[0;34m\u001b[0m\u001b[0m\n",
      "\u001b[0;32m<ipython-input-6-032ed980f382>\u001b[0m in \u001b[0;36mbprop\u001b[0;34m(self, batchData)\u001b[0m\n\u001b[1;32m    118\u001b[0m         \u001b[0;31m#if batchData.shape[0] == 1:\u001b[0m\u001b[0;34m\u001b[0m\u001b[0;34m\u001b[0m\u001b[0m\n\u001b[1;32m    119\u001b[0m         \u001b[0;31m#    batchData = np.expand_dims(batchData, axis = 1)\u001b[0m\u001b[0;34m\u001b[0m\u001b[0;34m\u001b[0m\u001b[0m\n\u001b[0;32m--> 120\u001b[0;31m         \u001b[0mself\u001b[0m\u001b[0;34m.\u001b[0m\u001b[0mgrad_W1\u001b[0m \u001b[0;34m=\u001b[0m \u001b[0mnp\u001b[0m\u001b[0;34m.\u001b[0m\u001b[0mdot\u001b[0m\u001b[0;34m(\u001b[0m\u001b[0mself\u001b[0m\u001b[0;34m.\u001b[0m\u001b[0mgrad_ha\u001b[0m\u001b[0;34m.\u001b[0m\u001b[0mT\u001b[0m\u001b[0;34m,\u001b[0m \u001b[0mbatchData\u001b[0m\u001b[0;34m)\u001b[0m\u001b[0;34m\u001b[0m\u001b[0m\n\u001b[0m\u001b[1;32m    121\u001b[0m \u001b[0;34m\u001b[0m\u001b[0m\n\u001b[1;32m    122\u001b[0m         \u001b[0;31m# temporary hack for grad_W1\u001b[0m\u001b[0;34m\u001b[0m\u001b[0;34m\u001b[0m\u001b[0m\n",
      "\u001b[0;31mValueError\u001b[0m: shapes (2,) and (10,2) not aligned: 2 (dim 0) != 10 (dim 0)"
     ]
    }
   ],
   "source": [
    "#trainData = np.squeeze(trainData, axis = 2)\n",
    "\n",
    "print(trainTarget[0:10].shape)\n",
    "\n",
    "nn = neuralNet(2, 2, 2)\n",
    "nn.gradDescentLoop((trainData[0:10]), trainTarget[0:10], 10)"
   ]
  },
  {
   "cell_type": "markdown",
   "metadata": {},
   "source": [
    "### Part 6\n",
    "\n",
    "> As a second step, copy your existing implementation to modify it to a new implementation that will use matrix calculus (instead of a loop) on batches of size $K$ to improve efficiency. **Take the matrix expressions in numpy derived in the first part, and adapt them for a minibatch of size $K$. Show in your report what you have modified (describe the former and new expressions with the shapes of each matrix).**"
   ]
  },
  {
   "cell_type": "code",
   "execution_count": null,
   "metadata": {},
   "outputs": [],
   "source": []
  },
  {
   "cell_type": "markdown",
   "metadata": {},
   "source": [
    "### Part 7\n",
    "\n",
    "> Compare both implementations (with a loop and with matrix calculus) to check that they both give the same values for the gradients on the parameters, first for $K = 1$, then for $K = 10$. Display the gradients for both methods."
   ]
  },
  {
   "cell_type": "code",
   "execution_count": null,
   "metadata": {},
   "outputs": [],
   "source": []
  },
  {
   "cell_type": "markdown",
   "metadata": {},
   "source": [
    "### Part 8\n",
    "\n",
    "> Time how long an epoch takes on Fashion MNIST (1 epoch = 1 full traversal through the whole training set) for $K = 100$ for both versions (loop over a minibatch and matrix caluclus)."
   ]
  },
  {
   "cell_type": "code",
   "execution_count": null,
   "metadata": {},
   "outputs": [],
   "source": []
  },
  {
   "cell_type": "markdown",
   "metadata": {},
   "source": [
    "### Part 9\n",
    "\n",
    "> Adapt your code to compute the error (proportion of misclassified examples) on the training set as well as the total loss on the training set during each epoch of the training procedure, and at the end of each epoch, it computes the error and average loss on the validation set and the test set. Display the 6 corresponding figures (error and average loss on train/valid/test), and write them in a log file."
   ]
  },
  {
   "cell_type": "code",
   "execution_count": null,
   "metadata": {},
   "outputs": [],
   "source": []
  },
  {
   "cell_type": "markdown",
   "metadata": {},
   "source": [
    "### Part 10\n",
    "\n",
    "> Train your network on the Fashion MNIST dataset. Plot the training/valid/test curves (error and loss as a function of the epoch number, corresponding to what you wrote in a file in the last question). Add to your report the curves obtained using your best hyperparameters, i.e. for which you obtained your best error on the validations et. We suggest 2 plots: the first one will plot the error rate (train/valid/test with different colors, show which color in a legend) and the other one for the averaged loss (on train/valid/test). You should be able to get less than 20% test error."
   ]
  },
  {
   "cell_type": "code",
   "execution_count": null,
   "metadata": {},
   "outputs": [],
   "source": []
  }
 ],
 "metadata": {
  "kernelspec": {
   "display_name": "Python 3",
   "language": "python",
   "name": "python3"
  },
  "language_info": {
   "codemirror_mode": {
    "name": "ipython",
    "version": 3
   },
   "file_extension": ".py",
   "mimetype": "text/x-python",
   "name": "python",
   "nbconvert_exporter": "python",
   "pygments_lexer": "ipython3",
   "version": "3.7.0"
  }
 },
 "nbformat": 4,
 "nbformat_minor": 2
}
