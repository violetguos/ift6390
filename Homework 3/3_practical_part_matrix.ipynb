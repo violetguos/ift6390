{
 "cells": [
  {
   "cell_type": "markdown",
   "metadata": {},
   "source": [
    "# Practical Part: Neural Network Implementation & Experiments\n",
    "\n",
    "Team:\n",
    "* Jonathan Bhimani-Burrows ()\n",
    "* Arlie Coles (20121051)\n",
    "* Yue (Violet) Guo (20120727)"
   ]
  },
  {
   "cell_type": "markdown",
   "metadata": {},
   "source": [
    "Load the Fashion MNIST data:\n",
    "Note: keep your file structures like this for reading input data without\n",
    "using ```import os``` for path change!\n",
    "```\n",
    "./Homework 3\n",
    "├── 3_practical_part.ipynb\n",
    "├── circles.txt\n",
    "├── data\n",
    "│   ├── fashion\n",
    "│   │   ├── t10k-images-idx3-ubyte.gz\n",
    "│   │   ├── t10k-labels-idx1-ubyte.gz\n",
    "│   │   ├── train-images-idx3-ubyte.gz\n",
    "│   │   └── train-labels-idx1-ubyte.gz\n",
    "│   └── mnist\n",
    "│       └── README.md\n",
    "├── hw3\n",
    "│   └── d3english.pdf\n",
    "├── overleaf_url.txt\n",
    "└── utils\n",
    "    ├── __init__.py\n",
    "    ├── __pycache__\n",
    "    │   ├── __init__.cpython-36.pyc\n",
    "    │   └── mnist_reader.cpython-36.pyc\n",
    "    ├── argparser.py\n",
    "    ├── helper.py\n",
    "    └── mnist_reader.py\n",
    "```"
   ]
  },
  {
   "cell_type": "code",
   "execution_count": 208,
   "metadata": {},
   "outputs": [],
   "source": [
    "import utils.mnist_reader as mnist_reader\n",
    "import numpy as np\n",
    "import math\n",
    "import copy \n",
    "import matplotlib.pyplot as plt\n",
    "import time"
   ]
  },
  {
   "cell_type": "code",
   "execution_count": 273,
   "metadata": {},
   "outputs": [
    {
     "name": "stdout",
     "output_type": "stream",
     "text": [
      "(60000,)\n"
     ]
    }
   ],
   "source": [
    "X_train, y_train = mnist_reader.load_mnist('data/fashion', kind='train')\n",
    "X_test, y_test = mnist_reader.load_mnist('data/fashion', kind='t10k')\n",
    "\n",
    "print(y_train.shape)"
   ]
  },
  {
   "cell_type": "markdown",
   "metadata": {},
   "source": [
    "Load the Circles data:"
   ]
  },
  {
   "cell_type": "code",
   "execution_count": 210,
   "metadata": {},
   "outputs": [
    {
     "name": "stdout",
     "output_type": "stream",
     "text": [
      "(1100, 2)\n",
      "[1 1 0 ... 0 1 1]\n"
     ]
    }
   ],
   "source": [
    "circlesData = np.loadtxt(open('circles.txt','r'))\n",
    "circlesTarget = circlesData[:,2]\n",
    "circlesData = circlesData[:,[0,1]] \n",
    "#circlesData = circlesData\n",
    "#circlesData = np.expand_dims(circlesData, axis = 1)\n",
    "#circlesData = circlesData.reshape(1100, 2, 1)\n",
    "print(circlesData.shape)\n",
    "circlesTarget = np.array([int(i) for i in circlesTarget])\n",
    "print(circlesTarget)"
   ]
  },
  {
   "cell_type": "code",
   "execution_count": 274,
   "metadata": {},
   "outputs": [
    {
     "name": "stdout",
     "output_type": "stream",
     "text": [
      "(60000,)\n",
      "(60000, 10)\n"
     ]
    }
   ],
   "source": [
    "class loadData:\n",
    "    def __init__(self, data_type = 'circles'):\n",
    "        self.addOnes = False\n",
    "        self.data_path = '/data/'\n",
    "    \n",
    "    def convertTarget(self, targetValues):\n",
    "        # Convert to one-hot encoding\n",
    "        numClasses = np.max(targetValues) + 1\n",
    "        return np.eye(numClasses)[targetValues]\n",
    "    \n",
    "\n",
    "    def loadNumData(self, data, target):\n",
    "        # Split into train/validation/test\n",
    "        \n",
    "        np.random.seed(6390)\n",
    "        randIndices = np.random.permutation(data.shape[0])\n",
    "        data, target = data[randIndices], target[randIndices]\n",
    "        \n",
    "        div1 = int(math.floor(0.8 * data.shape[0]))\n",
    "        div2 = int(math.floor(0.9 * data.shape[0]))\n",
    "        trainData, trainTarget = data[:div1], target[:div1]\n",
    "        validData, validTarget = data[div1:div2], target[div1:div2]\n",
    "        testData, testTarget = data[div2:], target[div2:]\n",
    "    \n",
    "        # Get one hot encoding\n",
    "        trainTarget = self.convertTarget(trainTarget)\n",
    "        validTarget = self.convertTarget(validTarget)\n",
    "        testTarget = self.convertTarget(testTarget)\n",
    "        \n",
    "        return trainData, trainTarget, validData, validTarget, testData, testTarget\n",
    "\n",
    "dataLoader = loadData()\n",
    " \n",
    "trainData, trainTarget, validData, validTarget, testData, testTarget = dataLoader.loadNumData(circlesData, circlesTarget)\n",
    "\n",
    "\n",
    "#y_train = np.expand_dims(y_train, axis = 1)\n",
    "print(y_train.shape)\n",
    "y_train =  np.array([int(i) for i in y_train])\n",
    "y_train = loadData().convertTarget(y_train)\n",
    "print(y_train.shape)"
   ]
  },
  {
   "cell_type": "markdown",
   "metadata": {},
   "source": [
    "## Experiments"
   ]
  },
  {
   "cell_type": "markdown",
   "metadata": {},
   "source": [
    "### Part 1\n",
    "\n",
    "> As a beginning, start with an implementation that computes the gradients for a single example, and check that the gradient is correct using the finite difference method described above."
   ]
  },
  {
   "cell_type": "code",
   "execution_count": 382,
   "metadata": {},
   "outputs": [],
   "source": [
    "class BatchSampler(object):\n",
    "    '''\n",
    "    randomly sample batches without replacement.\n",
    "    '''\n",
    "    \n",
    "    def __init__(self, data, targets, batch_size):\n",
    "        self.num_points = data.shape[0]\n",
    "        self.features = data.shape[1]\n",
    "        self.data = data\n",
    "        self.targets = targets\n",
    "        self.batch_size = batch_size\n",
    "        self.indices = np.arange(self.num_points)\n",
    "\n",
    "    def get_batch(self, K = None):\n",
    "        '''\n",
    "        Get a random batch without replacement \n",
    "        '''\n",
    "        \n",
    "        if not K:\n",
    "            indices = np.random.choice(self.indices, self.batch_size, replace=False)\n",
    "        else:\n",
    "            indices = np.arange(K)\n",
    "        X_batch = np.take(self.data, indices, 0)\n",
    "        y_batch = self.targets[indices]\n",
    "        return X_batch, y_batch\n",
    "    \n",
    "        "
   ]
  },
  {
   "cell_type": "code",
   "execution_count": 462,
   "metadata": {},
   "outputs": [],
   "source": [
    "# Our own activation functions\n",
    "\n",
    "def relu(pre_activation):\n",
    "    '''\n",
    "    preactivation is a vector\n",
    "    '''\n",
    "    relu_output = np.zeros(pre_activation.shape)\n",
    "    relu_flat = relu_output.flatten()\n",
    "    for i, neuron in enumerate(pre_activation.flatten()):\n",
    "        if neuron > 0:\n",
    "            relu_flat[i] = neuron\n",
    "    relu_output = relu_flat.reshape(pre_activation.shape)\n",
    "    return relu_output\n",
    "\n",
    "def softmax_single(pre_activation):\n",
    "    '''\n",
    "    Numerically stable because subtracting the max value makes bit overflow impossible,\n",
    "    we will only have non-positive values in the vector\n",
    "    '''\n",
    "    exps = np.exp(pre_activation - np.max(pre_activation))\n",
    "    return exps / np.sum(exps)\n",
    "\n",
    "def softmax_multiple(pre_activation):\n",
    "    '''\n",
    "    Numerically stable because subtracting the max value makes bit overflow impossible,\n",
    "    we will only have non-positive values in the vector\n",
    "    '''\n",
    "    exps = np.exp(pre_activation - np.max(pre_activation, axis = 0))\n",
    "    return exps / np.sum(exps, axis = 0)"
   ]
  },
  {
   "cell_type": "code",
   "execution_count": 214,
   "metadata": {},
   "outputs": [],
   "source": [
    "w1_fixed = np.array([[ 0.20960823 , 0.13663559], [ 0.38623373, -0.32807251] ,[-0.63849439 , 0.0131154 ],\n",
    "                     [ 0.5142807 ,  0.0595152 ], [-0.31075243 , 0.52335846]])\n",
    "w2_fixed = np.array( [[ 0.06159592, -0.10424877,  0.23591191 , 0.06177611 , 0.42799154],\n",
    "                      [ 0.40780062,  0.0759027  , 0.09284926, -0.14837115 ,  0.16844463]])"
   ]
  },
  {
   "cell_type": "code",
   "execution_count": 454,
   "metadata": {},
   "outputs": [],
   "source": [
    "def classErr(target, predicted):\n",
    "    cnt = 0\n",
    "    for i in range(target.shape[0]):\n",
    "        if target[i] != predicted [i]:\n",
    "            cnt +=1\n",
    "    return cnt / target.shape[0]"
   ]
  },
  {
   "cell_type": "code",
   "execution_count": 468,
   "metadata": {},
   "outputs": [
    {
     "data": {
      "text/plain": [
       "'      \\ndef earlyStopping(net):\\n    totalEpoch = 10 #may not be enough??\\n    for each epoch\\n        train\\n        valid\\n        test\\n        plot / print errors\\n'"
      ]
     },
     "execution_count": 468,
     "metadata": {},
     "output_type": "execute_result"
    }
   ],
   "source": [
    "class neuralNet():\n",
    "    def __init__(self, d, dh, m, n, eta=3e-4, regularize=None, fixed=False):\n",
    "        self.inputDim = d #inputDim\n",
    "        self.hiddenDim = dh #hiddenDim\n",
    "        self.outputDim = m #outputDim\n",
    "        self.regularize = regularize # lambda value\n",
    "        self.learningRate = eta\n",
    "        self.numData = n\n",
    "        self.batchErrorGradients = []\n",
    "        self.regularize = regularize\n",
    "        #may use xavier init - maybe explore this later.\n",
    "        \n",
    "        # Initial weights and biases\n",
    "        if fixed:\n",
    "            self.W_1 = w1_fixed\n",
    "            self.W_2 = w2_fixed\n",
    "        else:\n",
    "            self.W_1 = np.random.uniform(-1/np.sqrt(d), 1/np.sqrt(d), dh*d).reshape(dh, d)\n",
    "            self.W_2 = np.random.uniform(-1/np.sqrt(dh), 1/np.sqrt(dh), dh*m).reshape(m, dh) \n",
    "        \n",
    "        self.b_1 = np.zeros(dh).reshape(dh,)\n",
    "        self.b_2 = np.zeros(m).reshape(m,)\n",
    "\n",
    "\n",
    "    def fprop(self, batchData, mode='matrix'):\n",
    "        if mode == 'matrix':\n",
    "            stack_b1 = np.array([self.b_1,] * self.numData).T\n",
    "            self.h_a = np.dot(self.W_1, batchData.T) + stack_b1\n",
    "        elif mode == 'loop':\n",
    "            self.h_a = np.dot(self.W_1, batchData.T) + self.b_1\n",
    "            \n",
    "\n",
    "        self.h_s = relu(self.h_a)\n",
    "        \n",
    "        if mode == 'matrix':\n",
    "            stack_b2 = np.array([self.b_2,] * self.numData).T\n",
    "            self.o_a = np.dot(self.W_2, self.h_s) + stack_b2\n",
    "        elif mode == 'loop':\n",
    "            self.o_a = np.dot(self.W_2, self.h_s) + self.b_2\n",
    "        \n",
    "        if batchData.shape[0] == 1:\n",
    "            print('using single softmax')\n",
    "            self.o_s = softmax_single(self.o_a)\n",
    "        else:\n",
    "            self.o_s = softmax_multiple(self.o_a)\n",
    "        \n",
    "        if mode == 'loop':\n",
    "            self.prediction = (np.argmax(self.o_s,axis = 0))\n",
    "        elif mode == 'matrix':\n",
    "            self.prediction = (np.argmax(self.o_s,axis = 1))\n",
    "        \n",
    "    def errorRate(self, y, mode='matrix'):\n",
    "        '''\n",
    "        negative log\n",
    "        -logO_s(x)\n",
    "        '''        \n",
    "        \n",
    "        if mode == 'loop':\n",
    "            negLog = -self.o_a[np.argmax(y)] + np.log(np.sum(np.exp(self.o_a), axis=0))\n",
    "            \n",
    "        elif mode == 'matrix':\n",
    "            negLog = []\n",
    "            #print(\"shape y from error rate class \", y.shape)\n",
    "            #print(\"shape self.o_a from error rate class \", self.o_a.shape)\n",
    "            for i in range(y.shape[1]):\n",
    "                #print(\"y shape \", y.shape)\n",
    "                #print(\"y[:,i] \", y[:,i])\n",
    "                #print(\"np.argmax(y[:,i]) \", np.argmax(y[:,i]))\n",
    "                #print('-self.o_a[np.argmax(y[:,i])]', -self.o_a[np.argmax(y[:,i])])\n",
    "                error_at_point = -self.o_a[np.argmax(y[:,i])][i] + np.log(np.sum(np.exp(self.o_a), axis=0))[i]\n",
    "                negLog.append(error_at_point)\n",
    "            negLog = np.array(negLog)\n",
    "            #print(\"in error rate class def \", negLog[0])\n",
    "            negLog = np.mean(negLog)\n",
    "\n",
    "        return negLog\n",
    "          \n",
    "    def bpropLoop(self, batchData, batchTarget):\n",
    "        self.grad_oa = self.o_s - batchTarget\n",
    "        self.grad_W2 = np.outer(self.grad_oa, self.h_s.T)\n",
    "        self.grad_b2 = self.grad_oa\n",
    "        self.grad_hs = np.dot(self.W_2.T , self.grad_oa)\n",
    "        h_a_stack = np.where(self.h_a > 0, 1, 0)\n",
    "        self.grad_ha = np.multiply(self.grad_hs, h_a_stack)\n",
    "        self.grad_W1 = np.outer(self.grad_ha, batchData)\n",
    "        self.grad_b1 = self.grad_ha\n",
    "        \n",
    "    def bprop_matrix(self, batchData, batchTarget):\n",
    "        self.grad_oa = self.o_s - batchTarget\n",
    "        self.grad_W2 = np.matmul(self.grad_oa, self.h_s.T)/batchData.shape[0] #!\n",
    "        self.grad_b2 = np.sum(self.grad_oa, axis=1)/batchData.shape[0] #!\n",
    "        self.grad_hs = np.matmul(self.W_2.T, self.grad_oa)\n",
    "        self.grad_ha = np.multiply(self.grad_hs, np.where(self.h_a > 0, 1.0, 0.0))\n",
    "        self.grad_W1 = np.matmul(self.grad_ha, batchData)/batchData.shape[0] #!\n",
    "        self.grad_b1 = np.sum(self.grad_ha, axis=1)/batchData.shape[0] #!\n",
    "        \n",
    "    def bprop(self, batchData, batchTarget, mode='matrix'):\n",
    "        '''\n",
    "        batchTarget already in one-hot format\n",
    "        '''\n",
    "        \n",
    "        #batch target must be m by n\n",
    "        self.grad_oa = self.o_s - batchTarget\n",
    "        i = 0\n",
    "        self.grad_W2 = [np.outer(self.grad_oa[:,i], self.h_s[:,i].T) for i in range(batchData.shape[0])]\n",
    "        self.grad_b2 = self.grad_oa #np.mean(self.grad_oa, axis = 1)\n",
    "        self.grad_hs = np.dot(self.W_2.T , self.grad_oa)\n",
    "        # Check this (dim mismatch maybe)\n",
    "        h_a_stack = np.where(self.h_a > 0, 1, 0)\n",
    "        self.grad_ha = np.multiply(self.grad_hs, h_a_stack)\n",
    "        #self.grad_W1 = [np.outer(self.grad_ha[:,i], batchData[i]) for i in range(self.numData)]\n",
    "        self.grad_W1 = [np.outer(self.grad_ha[:,i], batchData[i]) for i in range(batchData.shape[0])]\n",
    "        # temporary hack for grad_W\n",
    "        self.grad_b1 = self.grad_ha\n",
    "        #print(\"\")\n",
    "        #print(\"***********************\")\n",
    "        #print(\"b1 before avg\", self.grad_b1)\n",
    "        #print(\"b2 before avg\", self.grad_b2)\n",
    "        \n",
    "        if mode == 'matrix':\n",
    "            self.grad_W2 = np.mean(np.array(self.grad_W2), axis=0)\n",
    "            self.grad_b2 = np.mean(np.array(self.grad_b2), axis=1)\n",
    "            \n",
    "            self.grad_W1 = np.mean(np.array(self.grad_W1), axis=0)\n",
    "            self.grad_b1 = np.mean(np.array(self.grad_b1), axis=1)\n",
    "            #print(\"\")\n",
    "            #print(\"***********************\")\n",
    "\n",
    "            #print(\"b1 after avg\", self.grad_b1)\n",
    "            #print(\"b2 after avg\", self.grad_b2)\n",
    "        \n",
    "\n",
    "        \n",
    "    def updateParams(self):\n",
    "        if self.regularize:\n",
    "            self.W_1 -= (self.regularize[0] * np.sign(self.W_1) + 2 * self.regularize[1] * self.W_1) * self.learningRate\n",
    "            self.W_2 -= (self.regularize[2] * np.sign(self.W_2) + 2 * self.regularize[3] * self.W_2) * self.learningRate\n",
    "        \n",
    "        self.W_1 -= self.grad_W1 * self.learningRate\n",
    "        self.W_2 -= self.grad_W2 * self.learningRate\n",
    "        self.b_1 -= self.grad_b1 * self.learningRate\n",
    "        self.b_2 -= self.grad_b2 * self.learningRate\n",
    "            \n",
    "        \n",
    "    \n",
    "    \n",
    "    def gradDescentLoop(self, batchData, batchTarget, K):\n",
    "        # Call each example in the data (over the minibatches) in a loop\n",
    "        grad_W2, grad_b2, grad_W1, grad_b1 = [], [], [], []\n",
    "        predBatch = []\n",
    "        for i in range(K):\n",
    "            self.fprop(batchData[i], mode='loop') #batchTarget[:,i]\n",
    "            self.bpropLoop(batchData[i],batchTarget[:,i])\n",
    "            predBatch.append(self.prediction)\n",
    "            grad_W2.append(self.grad_W2)\n",
    "            grad_b2.append(self.grad_b2)\n",
    "            grad_W1.append(self.grad_W1)\n",
    "            grad_b1.append(self.grad_b1)\n",
    "        self.grad_W2 = np.mean(grad_W2, axis=0)\n",
    "        self.grad_b2 = np.mean(grad_b2, axis=0)\n",
    "        self.grad_W1 = np.mean(grad_W1, axis=0)\n",
    "        self.grad_b1 = np.mean(grad_b1, axis=0)\n",
    "        \n",
    "        # Update params\n",
    "        #self.updateParams()\n",
    "    \n",
    "    def fpropLoop(self, batchData, K):\n",
    "        '''\n",
    "        unlike the above def gradDescentLoop(self, batchData, batchTarget, K)\n",
    "        this function only runs batchData (this is usually in test phase)\n",
    "        through the forward prop, without calculating any gradient update rule.\n",
    "        \n",
    "        Use to get predictions\n",
    "        \n",
    "        batchData: more like test/val data\n",
    "        K: ALWAYS == batchData.shape[0]\n",
    "        \n",
    "        '''\n",
    "        predBatch = []\n",
    "        for i in range(K):\n",
    "            self.fprop(batchData[i], mode='loop') #batchTarget[:,i]\n",
    "            predBatch.append(self.prediction)\n",
    "        self.predBatch = np.array(predBatch)    \n",
    "        \n",
    "    def gradDescentMat(self, batchData, batchTarget):\n",
    "        # Feed the entire data matrix in as input\n",
    "        self.fprop(batchData)\n",
    "        #self.bprop(batchData, batchTarget)\n",
    "        if batchData.shape[0] == 1:\n",
    "            self.bprop(batchData, batchTarget)\n",
    "        else:\n",
    "            self.bprop_matrix(batchData, batchTarget)\n",
    "        \n",
    "        \n",
    "\n",
    "            \n",
    "'''      \n",
    "def earlyStopping(net):\n",
    "    totalEpoch = 10 #may not be enough??\n",
    "    for each epoch\n",
    "        train\n",
    "        valid\n",
    "        test\n",
    "        plot / print errors\n",
    "'''\n",
    "\n",
    "\n"
   ]
  },
  {
   "cell_type": "code",
   "execution_count": null,
   "metadata": {},
   "outputs": [],
   "source": []
  },
  {
   "cell_type": "markdown",
   "metadata": {},
   "source": [
    "### Part 2\n",
    "\n",
    "> Display  the  gradients  for  both  methods (direct computation and finite difference) for a small network (e.g. $d = 2$ and $d_{h} = 2$) with random weights and for a single example."
   ]
  },
  {
   "cell_type": "code",
   "execution_count": 489,
   "metadata": {},
   "outputs": [
    {
     "name": "stdout",
     "output_type": "stream",
     "text": [
      "using single softmax\n",
      "Grad W2:\n",
      " [[-0.17139695 -0.         -0.17139695 -0.        ]\n",
      " [ 0.05797111  0.          0.05797111  0.        ]\n",
      " [-0.17265513 -0.         -0.17265513 -0.        ]\n",
      " [ 0.05671292  0.          0.05671292  0.        ]]\n",
      "Grad b2:\n",
      " [[-0.74725728  0.25274272]\n",
      " [-0.75274272  0.24725728]]\n",
      "Grad W1:\n",
      " [[-0.20596319  0.13911419]\n",
      " [ 0.06894431 -0.04656721]\n",
      " [ 0.         -0.        ]\n",
      " [-0.          0.        ]]\n",
      "Grad b1:\n",
      " [[-0.24854294  0.08319749]\n",
      " [ 0.         -0.        ]]\n"
     ]
    }
   ],
   "source": [
    "# Direct computation\n",
    "nn = neuralNet(2, 2, 2, 1)\n",
    "nn.fprop(trainData[0:1], mode='loop')\n",
    "nn.bpropLoop(trainData[0:1], trainTarget[0:1])\n",
    "oldErr = nn.errorRate(trainTarget[0:1], mode='loop')\n",
    "print('Grad W2:\\n', nn.grad_W2)\n",
    "print('Grad b2:\\n', nn.grad_b2)\n",
    "print('Grad W1:\\n', nn.grad_W1)\n",
    "print('Grad b1:\\n', nn.grad_b1)"
   ]
  },
  {
   "cell_type": "code",
   "execution_count": 490,
   "metadata": {},
   "outputs": [
    {
     "name": "stdout",
     "output_type": "stream",
     "text": [
      "using single softmax\n",
      "old err\n",
      " [0.68223605 0.68223605]\n",
      "newErr \n",
      " [0.68223566 0.68223566]\n",
      "Perturbing an element of W1. Ratio:\n",
      " [-5.25371712 -5.25371712]\n"
     ]
    }
   ],
   "source": [
    "# Finite difference\n",
    "nn_debug = copy.deepcopy(nn)\n",
    "sigma = 1e-5\n",
    "\n",
    "# W1 - perturb all 4 elements\n",
    "nn_debug.W_1[0][0] += sigma\n",
    "nn_debug.fprop(trainData[0:1], mode='loop')\n",
    "newErr = nn_debug.errorRate(trainTarget[0:1], mode='loop')\n",
    "\n",
    "print(\"old err\\n\", oldErr)\n",
    "print(\"newErr \\n\", newErr)\n",
    "estimate = (oldErr - newErr) / sigma\n",
    "ratio = nn.grad_W1[0][0] / estimate\n",
    "print('Perturbing an element of W1. Ratio:\\n', ratio)\n"
   ]
  },
  {
   "cell_type": "markdown",
   "metadata": {},
   "source": [
    "### Part 3\n",
    "\n",
    "> Add a hyperparameter for the minibatch size $K$ to allow computing the gradients on a minibatch of $K$ examples (in a matrix), by looping over the $K$ examples (this is a small addition to your previous code)."
   ]
  },
  {
   "cell_type": "markdown",
   "metadata": {},
   "source": [
    "### Part 4\n",
    "\n",
    "> Display the gradients for both methods (direct computation and finite difference) for a small network (e.g. $d = 2$ and $d_{h} = 2$) with random weights and for a minibatch with 10 examples (you can use examples from both classes from the two circles dataset)."
   ]
  },
  {
   "cell_type": "markdown",
   "metadata": {},
   "source": [
    "### Part 5\n",
    "\n",
    "> Train your neural network using gradient descent on the two circles dataset. Plot the decision regions for several different values of the hyperparameters (weight decay, number of hidden units, early stopping) so as to illustrate their effect on the capacity of the model."
   ]
  },
  {
   "cell_type": "markdown",
   "metadata": {},
   "source": [
    "We plot the circle training dataset to get an idea of what our classifier needs to learn:"
   ]
  },
  {
   "cell_type": "code",
   "execution_count": 345,
   "metadata": {},
   "outputs": [
    {
     "data": {
      "text/plain": [
       "<matplotlib.collections.PathCollection at 0x112e34898>"
      ]
     },
     "execution_count": 345,
     "metadata": {},
     "output_type": "execute_result"
    },
    {
     "data": {
      "image/png": "[encoded data removed]",
      "text/plain": [
       "<Figure size 432x288 with 1 Axes>"
      ]
     },
     "metadata": {},
     "output_type": "display_data"
    }
   ],
   "source": [
    "# plot the circle training dataset\n",
    "plotTrainTarget = np.argmax(trainTarget, axis = 1)\n",
    "plt.scatter(trainData[:,0], trainData[:,1], c=plotTrainTarget, cmap=plt.cm.Spectral)"
   ]
  },
  {
   "cell_type": "markdown",
   "metadata": {},
   "source": [
    "Our training function(s):"
   ]
  },
  {
   "cell_type": "code",
   "execution_count": 438,
   "metadata": {},
   "outputs": [],
   "source": [
    "def train_loop(nn, data, target, K, num_epoch, fixed = False): \n",
    "    '''\n",
    "    train minibtaches over K epochs (in a loop)\n",
    "    also does prediction and error calcualation\n",
    "    '''\n",
    "    # Get minibatch\n",
    "    batchSampler = BatchSampler(data, target, K)\n",
    "    numBatch = data.shape[0] // K \n",
    "    # training loop\n",
    "    for n in range(num_epoch):\n",
    "        # Do descent and update params - this is one epoch\n",
    "        for i in range(numBatch):\n",
    "            if fixed:\n",
    "                batchData, batchTarget = batchSampler.get_batch(K)\n",
    "            elif not fixed:\n",
    "                batchData, batchTarget = batchSampler.get_batch()\n",
    "            #difference: another loop here\n",
    "            nn.gradDescentLoop(batchData, batchTarget.T, K)\n",
    "            nn.updateParams()\n",
    "        if n % 100 == 0:\n",
    "            nn.fpropLoop(data, data.shape[0]) \n",
    "            print(\"Cross-entropy loss at the end of epoch {}: {}\".format(n, nn.errorRate(target.T, mode = 'loop')))\n",
    "            print(\"classification error at the end of epoch {}: {}\".format(n,\n",
    "                                                    classErr(np.argmax(target, axis = 1), nn.predBatch)))        \n",
    "    \n",
    "    # finalized weights, need to fprop and get the error rate \n",
    "    # a for loop inside the prop for each elem\n",
    "    nn.fpropLoop(data, data.shape[0]) \n",
    "    print(\"End of train loop process.\")\n",
    "\n",
    "\n",
    "def train_matrix(nn, data, target, K, num_epoch, fixed = False):\n",
    "    # Get minibatch\n",
    "    batchSampler = BatchSampler(data, target, K)\n",
    "    numBatch = data.shape[0] // K \n",
    "    for n in range(num_epoch):\n",
    "        # Do descent and update params - this is one epoch\n",
    "        for i in range(numBatch):\n",
    "            if fixed:\n",
    "                batchData, batchTarget = batchSampler.get_batch(K)\n",
    "            elif not fixed:\n",
    "                batchData, batchTarget = batchSampler.get_batch()\n",
    "            nn.gradDescentMat(batchData, batchTarget.T)\n",
    "            #print(nn.grad_W2)\n",
    "            nn.updateParams()\n",
    "        if n % 100 == 0:\n",
    "            nn.fprop(batchData, mode = 'matrix') \n",
    "            pred = np.argmax(nn.o_s, axis = 0)\n",
    "            print(\"Cross-entropy loss at the end of epoch {}: {}\".format(n, nn.errorRate(batchTarget.T, mode = 'matrix')))\n",
    "            print(\"classification error at the end of epoch {}: {}\".format(n,\n",
    "                                                    classErr(np.argmax(batchTarget, axis = 1), pred )))        \n",
    "    print(\"End of train matrix process.\")\n"
   ]
  },
  {
   "cell_type": "markdown",
   "metadata": {},
   "source": [
    "Functions to plot the decision boundary and decision regions:"
   ]
  },
  {
   "cell_type": "code",
   "execution_count": 430,
   "metadata": {},
   "outputs": [],
   "source": [
    "def plot_decision_boundary(nn, X, y):\n",
    "    # Set min and max values and give it some padding\n",
    "    x_min, x_max = X[:, 0].min() - .5, X[:, 0].max() + .5\n",
    "    y_min, y_max = X[:, 1].min() - .5, X[:, 1].max() + .5\n",
    "    h = 0.01\n",
    "    # Generate a grid of points with distance h betweethem\n",
    "    xx, yy = np.meshgrid(np.arange(x_min, x_max, h), np.arange(y_min, y_max, h))\n",
    "    # Predict the function value for the whole gid\n",
    "    \n",
    "    newData =np.c_[xx.ravel(), yy.ravel()]\n",
    "    \n",
    "    nn.fpropLoop(newData, newData.shape[0])\n",
    "    Z = nn.predBatch\n",
    "    Z = Z.reshape(xx.shape)\n",
    "    # Plot the contour and training examples\n",
    "    plt.contourf(xx, yy, Z, cmap=plt.cm.Spectral)\n",
    "    plt.scatter(X[:, 0], X[:, 1], c=y, cmap=plt.cm.Spectral)\n",
    "    plt.show()\n",
    "    \n",
    "def plotDecision(nn, data):\n",
    "    nn.fpropLoop(data, data.shape[0])\n",
    "    plt.scatter(data[:,0], data[:,1], c = nn.predBatch)\n",
    "    plt.show()"
   ]
  },
  {
   "cell_type": "markdown",
   "metadata": {},
   "source": [
    "We vary the number of hidden units:"
   ]
  },
  {
   "cell_type": "code",
   "execution_count": 431,
   "metadata": {},
   "outputs": [
    {
     "name": "stdout",
     "output_type": "stream",
     "text": [
      "Cross-entropy error at the end of epoch 0: 0.6910289810744301\n",
      "target: [0 1 0 0 1 0 0 1 1 1]\n",
      "predicted: [0 0 0 0 0 1 0 0 0 0]\n",
      "classification error at the end of epoch 0: 0.6\n",
      "End of train matrix process.\n",
      "Plotting the decision boundary for number of hidden units = 2.\n"
     ]
    },
    {
     "data": {
      "image/png": "[encoded data removed]",
      "text/plain": [
       "<Figure size 432x288 with 1 Axes>"
      ]
     },
     "metadata": {},
     "output_type": "display_data"
    },
    {
     "name": "stdout",
     "output_type": "stream",
     "text": [
      "Cross-entropy error at the end of epoch 0: 0.6901750911126752\n",
      "target: [0 0 1 1 1 1 0 0 0 0]\n",
      "predicted: [1 0 1 1 0 1 0 1 0 1]\n",
      "classification error at the end of epoch 0: 0.4\n",
      "End of train matrix process.\n",
      "Plotting the decision boundary for number of hidden units = 50.\n"
     ]
    },
    {
     "data": {
      "image/png": "[encoded data removed]",
      "text/plain": [
       "<Figure size 432x288 with 1 Axes>"
      ]
     },
     "metadata": {},
     "output_type": "display_data"
    },
    {
     "name": "stdout",
     "output_type": "stream",
     "text": [
      "Cross-entropy error at the end of epoch 0: 0.7260514370804285\n",
      "target: [1 0 0 0 1 1 0 1 0 1]\n",
      "predicted: [0 0 0 1 0 1 0 0 1 1]\n",
      "classification error at the end of epoch 0: 0.5\n",
      "End of train matrix process.\n",
      "Plotting the decision boundary for number of hidden units = 100.\n"
     ]
    },
    {
     "ename": "KeyboardInterrupt",
     "evalue": "",
     "output_type": "error",
     "traceback": [
      "\u001b[0;31m---------------------------------------------------------------------------\u001b[0m",
      "\u001b[0;31mKeyboardInterrupt\u001b[0m                         Traceback (most recent call last)",
      "\u001b[0;32m<ipython-input-431-d781c64a2819>\u001b[0m in \u001b[0;36m<module>\u001b[0;34m()\u001b[0m\n\u001b[1;32m      9\u001b[0m     \u001b[0mtrain_matrix\u001b[0m\u001b[0;34m(\u001b[0m\u001b[0mcircleNet\u001b[0m\u001b[0;34m,\u001b[0m \u001b[0mtrainData\u001b[0m\u001b[0;34m,\u001b[0m \u001b[0mtrainTarget\u001b[0m\u001b[0;34m,\u001b[0m \u001b[0mK\u001b[0m\u001b[0;34m,\u001b[0m \u001b[0;36m1\u001b[0m\u001b[0;34m)\u001b[0m\u001b[0;34m\u001b[0m\u001b[0m\n\u001b[1;32m     10\u001b[0m     \u001b[0mprint\u001b[0m\u001b[0;34m(\u001b[0m\u001b[0;34m'Plotting the decision boundary for number of hidden units = {}.'\u001b[0m\u001b[0;34m.\u001b[0m\u001b[0mformat\u001b[0m\u001b[0;34m(\u001b[0m\u001b[0mhidden\u001b[0m\u001b[0;34m)\u001b[0m\u001b[0;34m)\u001b[0m\u001b[0;34m\u001b[0m\u001b[0m\n\u001b[0;32m---> 11\u001b[0;31m     \u001b[0mplot_decision_boundary\u001b[0m\u001b[0;34m(\u001b[0m\u001b[0mcircleNet\u001b[0m\u001b[0;34m,\u001b[0m\u001b[0mtrainData\u001b[0m\u001b[0;34m,\u001b[0m \u001b[0mnp\u001b[0m\u001b[0;34m.\u001b[0m\u001b[0margmax\u001b[0m\u001b[0;34m(\u001b[0m\u001b[0mtrainTarget\u001b[0m\u001b[0;34m,\u001b[0m \u001b[0maxis\u001b[0m \u001b[0;34m=\u001b[0m \u001b[0;36m1\u001b[0m\u001b[0;34m)\u001b[0m\u001b[0;34m)\u001b[0m\u001b[0;34m\u001b[0m\u001b[0m\n\u001b[0m",
      "\u001b[0;32m<ipython-input-430-4dc0dc7ad486>\u001b[0m in \u001b[0;36mplot_decision_boundary\u001b[0;34m(nn, X, y)\u001b[0m\n\u001b[1;32m     10\u001b[0m     \u001b[0mnewData\u001b[0m \u001b[0;34m=\u001b[0m\u001b[0mnp\u001b[0m\u001b[0;34m.\u001b[0m\u001b[0mc_\u001b[0m\u001b[0;34m[\u001b[0m\u001b[0mxx\u001b[0m\u001b[0;34m.\u001b[0m\u001b[0mravel\u001b[0m\u001b[0;34m(\u001b[0m\u001b[0;34m)\u001b[0m\u001b[0;34m,\u001b[0m \u001b[0myy\u001b[0m\u001b[0;34m.\u001b[0m\u001b[0mravel\u001b[0m\u001b[0;34m(\u001b[0m\u001b[0;34m)\u001b[0m\u001b[0;34m]\u001b[0m\u001b[0;34m\u001b[0m\u001b[0m\n\u001b[1;32m     11\u001b[0m \u001b[0;34m\u001b[0m\u001b[0m\n\u001b[0;32m---> 12\u001b[0;31m     \u001b[0mnn\u001b[0m\u001b[0;34m.\u001b[0m\u001b[0mfpropLoop\u001b[0m\u001b[0;34m(\u001b[0m\u001b[0mnewData\u001b[0m\u001b[0;34m,\u001b[0m \u001b[0mnewData\u001b[0m\u001b[0;34m.\u001b[0m\u001b[0mshape\u001b[0m\u001b[0;34m[\u001b[0m\u001b[0;36m0\u001b[0m\u001b[0;34m]\u001b[0m\u001b[0;34m)\u001b[0m\u001b[0;34m\u001b[0m\u001b[0m\n\u001b[0m\u001b[1;32m     13\u001b[0m     \u001b[0mZ\u001b[0m \u001b[0;34m=\u001b[0m \u001b[0mnn\u001b[0m\u001b[0;34m.\u001b[0m\u001b[0mpredBatch\u001b[0m\u001b[0;34m\u001b[0m\u001b[0m\n\u001b[1;32m     14\u001b[0m     \u001b[0mZ\u001b[0m \u001b[0;34m=\u001b[0m \u001b[0mZ\u001b[0m\u001b[0;34m.\u001b[0m\u001b[0mreshape\u001b[0m\u001b[0;34m(\u001b[0m\u001b[0mxx\u001b[0m\u001b[0;34m.\u001b[0m\u001b[0mshape\u001b[0m\u001b[0;34m)\u001b[0m\u001b[0;34m\u001b[0m\u001b[0m\n",
      "\u001b[0;32m<ipython-input-425-95a3028f401a>\u001b[0m in \u001b[0;36mfpropLoop\u001b[0;34m(self, batchData, K)\u001b[0m\n\u001b[1;32m    165\u001b[0m         \u001b[0mpredBatch\u001b[0m \u001b[0;34m=\u001b[0m \u001b[0;34m[\u001b[0m\u001b[0;34m]\u001b[0m\u001b[0;34m\u001b[0m\u001b[0m\n\u001b[1;32m    166\u001b[0m         \u001b[0;32mfor\u001b[0m \u001b[0mi\u001b[0m \u001b[0;32min\u001b[0m \u001b[0mrange\u001b[0m\u001b[0;34m(\u001b[0m\u001b[0mK\u001b[0m\u001b[0;34m)\u001b[0m\u001b[0;34m:\u001b[0m\u001b[0;34m\u001b[0m\u001b[0m\n\u001b[0;32m--> 167\u001b[0;31m             \u001b[0mself\u001b[0m\u001b[0;34m.\u001b[0m\u001b[0mfprop\u001b[0m\u001b[0;34m(\u001b[0m\u001b[0mbatchData\u001b[0m\u001b[0;34m[\u001b[0m\u001b[0mi\u001b[0m\u001b[0;34m]\u001b[0m\u001b[0;34m,\u001b[0m \u001b[0mmode\u001b[0m\u001b[0;34m=\u001b[0m\u001b[0;34m'loop'\u001b[0m\u001b[0;34m)\u001b[0m \u001b[0;31m#batchTarget[:,i]\u001b[0m\u001b[0;34m\u001b[0m\u001b[0m\n\u001b[0m\u001b[1;32m    168\u001b[0m             \u001b[0mpredBatch\u001b[0m\u001b[0;34m.\u001b[0m\u001b[0mappend\u001b[0m\u001b[0;34m(\u001b[0m\u001b[0mself\u001b[0m\u001b[0;34m.\u001b[0m\u001b[0mprediction\u001b[0m\u001b[0;34m)\u001b[0m\u001b[0;34m\u001b[0m\u001b[0m\n\u001b[1;32m    169\u001b[0m         \u001b[0mself\u001b[0m\u001b[0;34m.\u001b[0m\u001b[0mpredBatch\u001b[0m \u001b[0;34m=\u001b[0m \u001b[0mnp\u001b[0m\u001b[0;34m.\u001b[0m\u001b[0marray\u001b[0m\u001b[0;34m(\u001b[0m\u001b[0mpredBatch\u001b[0m\u001b[0;34m)\u001b[0m\u001b[0;34m\u001b[0m\u001b[0m\n",
      "\u001b[0;32m<ipython-input-425-95a3028f401a>\u001b[0m in \u001b[0;36mfprop\u001b[0;34m(self, batchData, mode)\u001b[0m\n\u001b[1;32m     39\u001b[0m             \u001b[0mself\u001b[0m\u001b[0;34m.\u001b[0m\u001b[0mo_a\u001b[0m \u001b[0;34m=\u001b[0m \u001b[0mnp\u001b[0m\u001b[0;34m.\u001b[0m\u001b[0mdot\u001b[0m\u001b[0;34m(\u001b[0m\u001b[0mself\u001b[0m\u001b[0;34m.\u001b[0m\u001b[0mW_2\u001b[0m\u001b[0;34m,\u001b[0m \u001b[0mself\u001b[0m\u001b[0;34m.\u001b[0m\u001b[0mh_s\u001b[0m\u001b[0;34m)\u001b[0m \u001b[0;34m+\u001b[0m \u001b[0mself\u001b[0m\u001b[0;34m.\u001b[0m\u001b[0mb_2\u001b[0m\u001b[0;34m\u001b[0m\u001b[0m\n\u001b[1;32m     40\u001b[0m \u001b[0;34m\u001b[0m\u001b[0m\n\u001b[0;32m---> 41\u001b[0;31m         \u001b[0mself\u001b[0m\u001b[0;34m.\u001b[0m\u001b[0mo_s\u001b[0m \u001b[0;34m=\u001b[0m \u001b[0msoftmax\u001b[0m\u001b[0;34m(\u001b[0m\u001b[0mself\u001b[0m\u001b[0;34m.\u001b[0m\u001b[0mo_a\u001b[0m\u001b[0;34m)\u001b[0m\u001b[0;34m\u001b[0m\u001b[0m\n\u001b[0m\u001b[1;32m     42\u001b[0m         \u001b[0;32mif\u001b[0m \u001b[0mmode\u001b[0m \u001b[0;34m==\u001b[0m \u001b[0;34m'loop'\u001b[0m\u001b[0;34m:\u001b[0m\u001b[0;34m\u001b[0m\u001b[0m\n\u001b[1;32m     43\u001b[0m             \u001b[0mself\u001b[0m\u001b[0;34m.\u001b[0m\u001b[0mprediction\u001b[0m \u001b[0;34m=\u001b[0m \u001b[0;34m(\u001b[0m\u001b[0mnp\u001b[0m\u001b[0;34m.\u001b[0m\u001b[0margmax\u001b[0m\u001b[0;34m(\u001b[0m\u001b[0mself\u001b[0m\u001b[0;34m.\u001b[0m\u001b[0mo_s\u001b[0m\u001b[0;34m,\u001b[0m\u001b[0maxis\u001b[0m \u001b[0;34m=\u001b[0m \u001b[0;36m0\u001b[0m\u001b[0;34m)\u001b[0m\u001b[0;34m)\u001b[0m\u001b[0;34m\u001b[0m\u001b[0m\n",
      "\u001b[0;32m<ipython-input-213-a604503dc242>\u001b[0m in \u001b[0;36msoftmax\u001b[0;34m(pre_activation)\u001b[0m\n\u001b[1;32m     18\u001b[0m     \u001b[0mwe\u001b[0m \u001b[0mwill\u001b[0m \u001b[0monly\u001b[0m \u001b[0mhave\u001b[0m \u001b[0mnon\u001b[0m\u001b[0;34m-\u001b[0m\u001b[0mpositive\u001b[0m \u001b[0mvalues\u001b[0m \u001b[0;32min\u001b[0m \u001b[0mthe\u001b[0m \u001b[0mvector\u001b[0m\u001b[0;34m\u001b[0m\u001b[0m\n\u001b[1;32m     19\u001b[0m     '''\n\u001b[0;32m---> 20\u001b[0;31m     \u001b[0mexps\u001b[0m \u001b[0;34m=\u001b[0m \u001b[0mnp\u001b[0m\u001b[0;34m.\u001b[0m\u001b[0mexp\u001b[0m\u001b[0;34m(\u001b[0m\u001b[0mpre_activation\u001b[0m \u001b[0;34m-\u001b[0m \u001b[0mnp\u001b[0m\u001b[0;34m.\u001b[0m\u001b[0mmax\u001b[0m\u001b[0;34m(\u001b[0m\u001b[0mpre_activation\u001b[0m\u001b[0;34m)\u001b[0m\u001b[0;34m)\u001b[0m\u001b[0;34m\u001b[0m\u001b[0m\n\u001b[0m\u001b[1;32m     21\u001b[0m     \u001b[0;32mreturn\u001b[0m \u001b[0mexps\u001b[0m \u001b[0;34m/\u001b[0m \u001b[0mnp\u001b[0m\u001b[0;34m.\u001b[0m\u001b[0msum\u001b[0m\u001b[0;34m(\u001b[0m\u001b[0mexps\u001b[0m\u001b[0;34m)\u001b[0m\u001b[0;34m\u001b[0m\u001b[0m\n",
      "\u001b[0;31mKeyboardInterrupt\u001b[0m: "
     ]
    }
   ],
   "source": [
    "# Train on circles, varying number of hidden units\n",
    "# K is Size of batches\n",
    "K = 10\n",
    "\n",
    "num_hidden = [2,50,100]\n",
    "for hidden in num_hidden:\n",
    "    circleNet = neuralNet(2, hidden, 2, K) \n",
    "    #train_loop(circleNet, trainData, trainTarget, K, 1)\n",
    "    train_matrix(circleNet, trainData, trainTarget, K, 1)\n",
    "    print('Plotting the decision boundary for number of hidden units = {}.'.format(hidden))\n",
    "    plot_decision_boundary(circleNet,trainData, np.argmax(trainTarget, axis = 1))"
   ]
  },
  {
   "cell_type": "markdown",
   "metadata": {},
   "source": [
    "Next we vary the number of epochs (looking at the error on the validation set would allow us to \"early stop\" at the point where the validation error is at its lowest):"
   ]
  },
  {
   "cell_type": "code",
   "execution_count": null,
   "metadata": {},
   "outputs": [],
   "source": [
    "num_epoch = [10, 100, 1000]    \n",
    "for n in num_epoch:\n",
    "    circleNet = neuralNet(2, 15, 2, trainData.shape[0] ) # K = 2\n",
    "    train_loop(circleNet, trainData, trainTarget, K, n)\n",
    "    plot_decision_boundary(circleNet,trainData, np.argmax(trainTarget, axis = 1))\n",
    "    print('Plotting the decision boundary for number of epochs = {}.'.format(n))\n",
    "    #plotDecision(circleNet,testData)\n"
   ]
  },
  {
   "cell_type": "markdown",
   "metadata": {},
   "source": [
    "Then we vary the amount of regularization (weight decay):"
   ]
  },
  {
   "cell_type": "code",
   "execution_count": 349,
   "metadata": {},
   "outputs": [
    {
     "name": "stdout",
     "output_type": "stream",
     "text": [
      "numbatch 88\n",
      "error param at the end of loop 0, 0.8264353046877991\n",
      "error param at the end of loop 100, 0.665967028098564\n",
      "end of train loop\n",
      "No regularization:\n"
     ]
    },
    {
     "data": {
      "image/png": "[encoded data removed]",
      "text/plain": [
       "<Figure size 432x288 with 1 Axes>"
      ]
     },
     "metadata": {},
     "output_type": "display_data"
    },
    {
     "name": "stdout",
     "output_type": "stream",
     "text": [
      "numbatch 88\n",
      "error param at the end of loop 0, 0.7469143302286119\n",
      "error param at the end of loop 100, 0.6244653202926755\n",
      "end of train loop\n",
      "Regularization: [0.0003, 0.0003, 0.0003, 0.0003]\n"
     ]
    },
    {
     "data": {
      "image/png": "[encoded data removed]",
      "text/plain": [
       "<Figure size 432x288 with 1 Axes>"
      ]
     },
     "metadata": {},
     "output_type": "display_data"
    },
    {
     "name": "stdout",
     "output_type": "stream",
     "text": [
      "numbatch 88\n",
      "error param at the end of loop 0, 0.5575039490099978\n",
      "error param at the end of loop 100, 0.7519056196658246\n",
      "end of train loop\n",
      "Regularization: [0.002, 0.002, 0.002, 0.002]\n"
     ]
    },
    {
     "data": {
      "image/png": "[encoded data removed]",
      "text/plain": [
       "<Figure size 432x288 with 1 Axes>"
      ]
     },
     "metadata": {},
     "output_type": "display_data"
    },
    {
     "name": "stdout",
     "output_type": "stream",
     "text": [
      "numbatch 88\n",
      "error param at the end of loop 0, 0.791262760537466\n",
      "error param at the end of loop 100, 0.698897049975963\n",
      "end of train loop\n",
      "Regularization: [0.02, 0.01, 0.02, 0.01]\n"
     ]
    },
    {
     "data": {
      "image/png": "[encoded data removed]",
      "text/plain": [
       "<Figure size 432x288 with 1 Axes>"
      ]
     },
     "metadata": {},
     "output_type": "display_data"
    }
   ],
   "source": [
    "# No regularization\n",
    "circleNet = neuralNet(2, 15, 2, trainData.shape[0]) # K = 2\n",
    "train_loop(circleNet, trainData, trainTarget, K, 200) # 1000 epoches\n",
    "print('No regularization:')\n",
    "plot_decision_boundary(circleNet,trainData, np.argmax(trainTarget, axis = 1))\n",
    "\n",
    "\n",
    "# with regularization\n",
    "circleNet = neuralNet(2, 15, 2, trainData.shape[0], regularize=[3e-4, 3e-4,  3e-4, 3e-4]) # K = 2\n",
    "train_loop(circleNet, trainData, trainTarget, K, 200) # 1000 epoches\n",
    "print('Regularization: {}'.format(circleNet.regularize))\n",
    "plot_decision_boundary(circleNet,trainData, np.argmax(trainTarget, axis = 1))\n",
    "\n",
    "\n",
    "# with regularization\n",
    "circleNet = neuralNet(2, 15, 2, trainData.shape[0], regularize=[2e-3, 2e-3,  2e-3, 2e-3]) # K = 2\n",
    "train_loop(circleNet, trainData, trainTarget, K, 200) # 1000 epoches\n",
    "print('Regularization: {}'.format(circleNet.regularize))\n",
    "plot_decision_boundary(circleNet,trainData, np.argmax(trainTarget, axis = 1))\n",
    "\n",
    "\n",
    "\n",
    "# with different regularization\n",
    "circleNet = neuralNet(2, 15, 2, trainData.shape[0], regularize=[2e-2, 1e-2,  2e-2, 1e-2]) # K = 2\n",
    "train_loop(circleNet, trainData, trainTarget, K, 200) # 1000 epoches\n",
    "print('Regularization: {}'.format(circleNet.regularize))\n",
    "plot_decision_boundary(circleNet,trainData, np.argmax(trainTarget, axis = 1))"
   ]
  },
  {
   "cell_type": "markdown",
   "metadata": {},
   "source": [
    "### Part 6\n",
    "\n",
    "> As a second step, copy your existing implementation to modify it to a new implementation that will use matrix calculus (instead of a loop) on batches of size $K$ to improve efficiency. **Take the matrix expressions in numpy derived in the first part, and adapt them for a minibatch of size $K$. Show in your report what you have modified (describe the former and new expressions with the shapes of each matrix).**"
   ]
  },
  {
   "cell_type": "markdown",
   "metadata": {},
   "source": [
    "### Part 7\n",
    "\n",
    "> Compare both implementations (with a loop and with matrix calculus) to check that they both give the same values for the gradients on the parameters, first for $K = 1$, then for $K = 10$. Display the gradients for both methods."
   ]
  },
  {
   "cell_type": "code",
   "execution_count": 470,
   "metadata": {},
   "outputs": [
    {
     "name": "stdout",
     "output_type": "stream",
     "text": [
      "Cross-entropy error at the end of epoch 0: 0.7459614451937675\n",
      "classification error at the end of epoch 0: 1.0\n",
      "End of train loop process.\n",
      "Gradients for K = 1 for loop method\n",
      "grad_W1: [[ 0.          0.        ]\n",
      " [-0.2316924   0.15649254]\n",
      " [ 0.03206151 -0.02165538]\n",
      " [ 0.17319004 -0.11697815]\n",
      " [ 0.03126405 -0.02111675]]\n",
      "grad_b1: [ 0.         -0.27959128  0.03868974  0.20899444  0.03772741]\n",
      "grad_W2: [[ 0.         -0.01156549 -0.45181322 -0.02688048 -0.23393435]\n",
      " [ 0.          0.01156549  0.45181322  0.02688048  0.23393435]]\n",
      "grad_b2: [-0.52590996  0.52590996]\n",
      "\n",
      "using single softmax\n",
      "using single softmax\n",
      "Cross-entropy error at the end of epoch 0: 0.7188873132206169\n",
      "classification error at the end of epoch 0: 1.0\n",
      "End of train matrix process.\n",
      "Gradients for K = 1 for matrix method\n",
      "grad_W1: [[ 0.08936964 -0.06036314]\n",
      " [ 0.          0.        ]\n",
      " [ 0.          0.        ]\n",
      " [ 0.          0.        ]\n",
      " [-0.03309751  0.02235513]]\n",
      "grad_b1: [ 0.10784545  0.          0.          0.         -0.03993991]\n",
      "grad_W2: [[-0.16469666  0.          0.          0.         -0.10759734]\n",
      " [ 0.16469666  0.          0.          0.          0.10759734]]\n",
      "grad_b2: [-0.51279789  0.51279789]\n"
     ]
    }
   ],
   "source": [
    "# Loop with K = 1\n",
    "K = 1\n",
    "test_net = neuralNet(2, 5, 2, K)\n",
    "train_loop(test_net, trainData[0:1], trainTarget[0:1], K, 1, fixed = True)\n",
    "\n",
    "print('Gradients for K = 1 for loop method')\n",
    "print('grad_W1:', test_net.grad_W1)\n",
    "print('grad_b1:', test_net.grad_b1)\n",
    "print('grad_W2:', test_net.grad_W2)\n",
    "print('grad_b2:', test_net.grad_b2)\n",
    "\n",
    "print()\n",
    "# Matrix with K = 1\n",
    "K = 1\n",
    "test_net = neuralNet(2, 5, 2, K)\n",
    "train_matrix(test_net, trainData[0:1], trainTarget[0:1], K, 1, fixed = True)\n",
    "\n",
    "print('Gradients for K = 1 for matrix method')\n",
    "print('grad_W1:', test_net.grad_W1)\n",
    "print('grad_b1:', test_net.grad_b1)\n",
    "print('grad_W2:', test_net.grad_W2)\n",
    "print('grad_b2:', test_net.grad_b2)"
   ]
  },
  {
   "cell_type": "code",
   "execution_count": 461,
   "metadata": {},
   "outputs": [
    {
     "name": "stdout",
     "output_type": "stream",
     "text": [
      "Cross-entropy error at the end of epoch 0: 0.6619486529032825\n",
      "classification error at the end of epoch 0: 0.2\n",
      "End of train loop process.\n",
      "Gradients for K = 10 for matrix method\n",
      "grad_W1: [[ 0.03181326 -0.01148641]\n",
      " [-0.01861765  0.04032529]\n",
      " [-0.00244895  0.01639701]\n",
      " [-0.06618525  0.06827693]\n",
      " [-0.00915204  0.00340837]]\n",
      "grad_b1: [ 0.03644545 -0.05806405 -0.00505665 -0.12044089  0.01671237]\n",
      "grad_W2: [[-0.00720496 -0.1104785   0.01148722 -0.07681416  0.01772469]\n",
      " [ 0.00720496  0.1104785  -0.01148722  0.07681416 -0.01772469]]\n",
      "grad_b2: [-0.25061676  0.25061676]\n",
      "\n",
      "Cross-entropy error at the end of epoch 0: 0.6322838560431514\n",
      "classification error at the end of epoch 0: 0.2\n",
      "End of train matrix process.\n",
      "Gradients for K = 10 with matrix method\n",
      "grad_W1: [[ 0.03181131 -0.0114856 ]\n",
      " [-0.0186235   0.04033888]\n",
      " [-0.00244878  0.01639607]\n",
      " [-0.06618817  0.06828048]\n",
      " [-0.00915153  0.00340812]]\n",
      "grad_b1: [ 0.03644352 -0.05808335 -0.0050564  -0.12044686  0.01671149]\n",
      "grad_W2: [[-0.0072036  -0.11047842  0.01148643 -0.07681607  0.0177242 ]\n",
      " [ 0.0072036   0.11047842 -0.01148643  0.07681607 -0.0177242 ]]\n",
      "grad_b2: [-0.25060934  0.25060934]\n"
     ]
    }
   ],
   "source": [
    "# Loop with K = 10\n",
    "K = 10\n",
    "test_net = neuralNet(2, 5, 2, K, fixed=True)\n",
    "train_loop(test_net, trainData[0:10], trainTarget[0:10], K, 1, fixed = True)\n",
    "\n",
    "print('Gradients for K = 10 for matrix method')\n",
    "print('grad_W1:', test_net.grad_W1)\n",
    "print('grad_b1:', test_net.grad_b1)\n",
    "print('grad_W2:', test_net.grad_W2)\n",
    "print('grad_b2:', test_net.grad_b2)\n",
    "\n",
    "print()\n",
    "# Matrix with K = 10\n",
    "K = 10\n",
    "test_net = neuralNet(2, 5, 2, K, fixed=True)\n",
    "train_matrix(test_net, trainData[0:10], trainTarget[0:10], K, 1, fixed = True)\n",
    "\n",
    "print('Gradients for K = 10 with matrix method')\n",
    "print('grad_W1:', test_net.grad_W1)\n",
    "print('grad_b1:', test_net.grad_b1)\n",
    "print('grad_W2:', test_net.grad_W2)\n",
    "print('grad_b2:', test_net.grad_b2)"
   ]
  },
  {
   "cell_type": "markdown",
   "metadata": {},
   "source": [
    "### Part 8\n",
    "\n",
    "> Time how long an epoch takes on Fashion MNIST (1 epoch = 1 full traversal through the whole training set) for $K = 100$ for both versions (loop over a minibatch and matrix caluclus)."
   ]
  },
  {
   "cell_type": "code",
   "execution_count": 453,
   "metadata": {},
   "outputs": [
    {
     "name": "stdout",
     "output_type": "stream",
     "text": [
      "784\n",
      "Cross-entropy error at the end of epoch 0: 19.450009743276077\n",
      "target: [9 0 0 ... 3 0 5]\n",
      "predicted: [9 0 0 ... 0 0 5]\n",
      "classification error at the end of epoch 0: 0.5983166666666667\n",
      "End of train loop process.\n",
      "--- 1 epoch on MNIST (loop method): 18.853266954421997 seconds ---\n",
      "Cross-entropy error at the end of epoch 0: 1.6839100340379878\n",
      "target: [8 7 8 0 4 5 1 5 2 8 4 0 6 4 2 6 9 0 4 2 6 6 7 6 9 0 6 2 2 8 8 2 2 8 9 3 3\n",
      " 4 2 9 7 8 6 8 5 4 1 5 0 2 8 3 2 9 4 0 9 3 4 9 2 0 9 1 4 5 5 7 5 7 6 5 2 4\n",
      " 7 0 6 6 1 6 3 9 2 3 5 1 6 3 3 1 2 8 1 3 7 2 3 9 1 3]\n",
      "predicted: [8 7 8 8 8 5 1 5 8 8 8 8 9 8 8 8 9 8 8 8 8 8 5 1 9 8 8 8 8 8 8 8 8 5 8 1 1\n",
      " 8 5 9 9 8 8 8 9 8 1 7 8 8 1 8 8 9 8 8 8 1 8 9 8 8 9 1 8 5 5 7 5 7 8 5 8 8\n",
      " 7 8 6 8 8 8 8 9 8 1 5 1 8 8 8 1 8 8 1 8 7 5 1 8 1 1]\n",
      "classification error at the end of epoch 0: 0.65\n",
      "End of train matrix process.\n",
      "--- 1 epoch on MNIST (matrix method): 8.399133920669556 seconds ---\n"
     ]
    }
   ],
   "source": [
    "# train the Fashion MINIST\n",
    "# K is batch size\n",
    "K = 100\n",
    "num_epochs = 1\n",
    "\n",
    "# Loop method\n",
    "fmNet = neuralNet(X_train.shape[1], 15, 10, K)\n",
    "start_time = time.time()\n",
    "train_loop(fmNet, X_train, y_train, K, num_epochs)\n",
    "print(\"--- 1 epoch on MNIST (loop method): {} seconds ---\".format(time.time() - start_time))\n",
    "\n",
    "# Matrix method\n",
    "fmNet = neuralNet(X_train.shape[1], 15, 10, K)\n",
    "start_time = time.time()\n",
    "train_matrix(fmNet, X_train, y_train, K, num_epochs)\n",
    "print(\"--- 1 epoch on MNIST (matrix method): {} seconds ---\".format(time.time() - start_time))\n"
   ]
  },
  {
   "cell_type": "code",
   "execution_count": null,
   "metadata": {},
   "outputs": [],
   "source": []
  },
  {
   "cell_type": "markdown",
   "metadata": {},
   "source": [
    "### Part 9\n",
    "\n",
    "> Adapt your code to compute the error (proportion of misclassified examples) on the training set as well as the total loss on the training set during each epoch of the training procedure, and at the end of each epoch, it computes the error and average loss on the validation set and the test set. Display the 6 corresponding figures (error and average loss on train/valid/test), and write them in a log file."
   ]
  },
  {
   "cell_type": "code",
   "execution_count": null,
   "metadata": {},
   "outputs": [],
   "source": []
  },
  {
   "cell_type": "markdown",
   "metadata": {},
   "source": [
    "### Part 10\n",
    "\n",
    "> Train your network on the Fashion MNIST dataset. Plot the training/valid/test curves (error and loss as a function of the epoch number, corresponding to what you wrote in a file in the last question). Add to your report the curves obtained using your best hyperparameters, i.e. for which you obtained your best error on the validations et. We suggest 2 plots: the first one will plot the error rate (train/valid/test with different colors, show which color in a legend) and the other one for the averaged loss (on train/valid/test). You should be able to get less than 20% test error."
   ]
  },
  {
   "cell_type": "code",
   "execution_count": null,
   "metadata": {},
   "outputs": [],
   "source": []
  }
 ],
 "metadata": {
  "kernelspec": {
   "display_name": "Python 3",
   "language": "python",
   "name": "python3"
  },
  "language_info": {
   "codemirror_mode": {
    "name": "ipython",
    "version": 3
   },
   "file_extension": ".py",
   "mimetype": "text/x-python",
   "name": "python",
   "nbconvert_exporter": "python",
   "pygments_lexer": "ipython3",
   "version": "3.6.5"
  }
 },
 "nbformat": 4,
 "nbformat_minor": 2
}
